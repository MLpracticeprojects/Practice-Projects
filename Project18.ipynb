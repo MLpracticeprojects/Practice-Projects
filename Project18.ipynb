{
 "cells": [
  {
   "cell_type": "markdown",
   "metadata": {},
   "source": [
    "# 1. Import Necessary Libraries"
   ]
  },
  {
   "cell_type": "code",
   "execution_count": 157,
   "metadata": {},
   "outputs": [],
   "source": [
    "import numpy as np\n",
    "import pandas as pd\n",
    "import seaborn as sns \n",
    "import matplotlib.pyplot as plt\n",
    "import sklearn\n",
    "from sklearn.linear_model import LinearRegression\n",
    "from sklearn.model_selection import GridSearchCV\n",
    "\n",
    "from sklearn.model_selection import train_test_split\n",
    "\n",
    "from sklearn.metrics import roc_curve, auc,classification_report,accuracy_score\n",
    "from sklearn.metrics import mean_squared_error ,mean_absolute_error,log_loss\n",
    "from sklearn.metrics import confusion_matrix\n",
    "\n",
    "import warnings\n",
    "warnings.filterwarnings('ignore')"
   ]
  },
  {
   "cell_type": "markdown",
   "metadata": {},
   "source": [
    "# 2. Read In and Explore the Data"
   ]
  },
  {
   "cell_type": "code",
   "execution_count": 158,
   "metadata": {},
   "outputs": [],
   "source": [
    "df_train = pd.read_csv('Final_Train.csv',encoding= 'unicode_escape')\n",
    "df_test = pd.read_csv('Final_Train.csv',encoding= 'unicode_escape')"
   ]
  },
  {
   "cell_type": "code",
   "execution_count": 159,
   "metadata": {},
   "outputs": [
    {
     "data": {
      "text/plain": [
       "(5961, 7)"
      ]
     },
     "execution_count": 159,
     "metadata": {},
     "output_type": "execute_result"
    }
   ],
   "source": [
    "df_train.shape"
   ]
  },
  {
   "cell_type": "code",
   "execution_count": 160,
   "metadata": {},
   "outputs": [
    {
     "data": {
      "text/html": [
       "<div>\n",
       "<style scoped>\n",
       "    .dataframe tbody tr th:only-of-type {\n",
       "        vertical-align: middle;\n",
       "    }\n",
       "\n",
       "    .dataframe tbody tr th {\n",
       "        vertical-align: top;\n",
       "    }\n",
       "\n",
       "    .dataframe thead th {\n",
       "        text-align: right;\n",
       "    }\n",
       "</style>\n",
       "<table border=\"1\" class=\"dataframe\">\n",
       "  <thead>\n",
       "    <tr style=\"text-align: right;\">\n",
       "      <th></th>\n",
       "      <th>Fees</th>\n",
       "    </tr>\n",
       "  </thead>\n",
       "  <tbody>\n",
       "    <tr>\n",
       "      <td>count</td>\n",
       "      <td>5961.000000</td>\n",
       "    </tr>\n",
       "    <tr>\n",
       "      <td>mean</td>\n",
       "      <td>307.944640</td>\n",
       "    </tr>\n",
       "    <tr>\n",
       "      <td>std</td>\n",
       "      <td>190.920373</td>\n",
       "    </tr>\n",
       "    <tr>\n",
       "      <td>min</td>\n",
       "      <td>5.000000</td>\n",
       "    </tr>\n",
       "    <tr>\n",
       "      <td>25%</td>\n",
       "      <td>150.000000</td>\n",
       "    </tr>\n",
       "    <tr>\n",
       "      <td>50%</td>\n",
       "      <td>300.000000</td>\n",
       "    </tr>\n",
       "    <tr>\n",
       "      <td>75%</td>\n",
       "      <td>500.000000</td>\n",
       "    </tr>\n",
       "    <tr>\n",
       "      <td>max</td>\n",
       "      <td>950.000000</td>\n",
       "    </tr>\n",
       "  </tbody>\n",
       "</table>\n",
       "</div>"
      ],
      "text/plain": [
       "              Fees\n",
       "count  5961.000000\n",
       "mean    307.944640\n",
       "std     190.920373\n",
       "min       5.000000\n",
       "25%     150.000000\n",
       "50%     300.000000\n",
       "75%     500.000000\n",
       "max     950.000000"
      ]
     },
     "execution_count": 160,
     "metadata": {},
     "output_type": "execute_result"
    }
   ],
   "source": [
    "df_train.describe()"
   ]
  },
  {
   "cell_type": "code",
   "execution_count": 161,
   "metadata": {},
   "outputs": [
    {
     "data": {
      "text/html": [
       "<div>\n",
       "<style scoped>\n",
       "    .dataframe tbody tr th:only-of-type {\n",
       "        vertical-align: middle;\n",
       "    }\n",
       "\n",
       "    .dataframe tbody tr th {\n",
       "        vertical-align: top;\n",
       "    }\n",
       "\n",
       "    .dataframe thead th {\n",
       "        text-align: right;\n",
       "    }\n",
       "</style>\n",
       "<table border=\"1\" class=\"dataframe\">\n",
       "  <thead>\n",
       "    <tr style=\"text-align: right;\">\n",
       "      <th></th>\n",
       "      <th>Qualification</th>\n",
       "      <th>Experience</th>\n",
       "      <th>Rating</th>\n",
       "      <th>Place</th>\n",
       "      <th>Profile</th>\n",
       "      <th>Miscellaneous_Info</th>\n",
       "      <th>Fees</th>\n",
       "    </tr>\n",
       "  </thead>\n",
       "  <tbody>\n",
       "    <tr>\n",
       "      <td>0</td>\n",
       "      <td>BHMS, MD - Homeopathy</td>\n",
       "      <td>24 years experience</td>\n",
       "      <td>100%</td>\n",
       "      <td>Kakkanad, Ernakulam</td>\n",
       "      <td>Homeopath</td>\n",
       "      <td>100% 16 Feedback Kakkanad, Ernakulam</td>\n",
       "      <td>100</td>\n",
       "    </tr>\n",
       "    <tr>\n",
       "      <td>1</td>\n",
       "      <td>BAMS, MD - Ayurveda Medicine</td>\n",
       "      <td>12 years experience</td>\n",
       "      <td>98%</td>\n",
       "      <td>Whitefield, Bangalore</td>\n",
       "      <td>Ayurveda</td>\n",
       "      <td>98% 76 Feedback Whitefield, Bangalore</td>\n",
       "      <td>350</td>\n",
       "    </tr>\n",
       "    <tr>\n",
       "      <td>2</td>\n",
       "      <td>MBBS, MS - Otorhinolaryngology</td>\n",
       "      <td>9 years experience</td>\n",
       "      <td>NaN</td>\n",
       "      <td>Mathikere - BEL, Bangalore</td>\n",
       "      <td>ENT Specialist</td>\n",
       "      <td>NaN</td>\n",
       "      <td>300</td>\n",
       "    </tr>\n",
       "    <tr>\n",
       "      <td>3</td>\n",
       "      <td>BSc - Zoology, BAMS</td>\n",
       "      <td>12 years experience</td>\n",
       "      <td>NaN</td>\n",
       "      <td>Bannerghatta Road, Bangalore</td>\n",
       "      <td>Ayurveda</td>\n",
       "      <td>Bannerghatta Road, Bangalore ?250 Available on...</td>\n",
       "      <td>250</td>\n",
       "    </tr>\n",
       "    <tr>\n",
       "      <td>4</td>\n",
       "      <td>BAMS</td>\n",
       "      <td>20 years experience</td>\n",
       "      <td>100%</td>\n",
       "      <td>Keelkattalai, Chennai</td>\n",
       "      <td>Ayurveda</td>\n",
       "      <td>100% 4 Feedback Keelkattalai, Chennai</td>\n",
       "      <td>250</td>\n",
       "    </tr>\n",
       "  </tbody>\n",
       "</table>\n",
       "</div>"
      ],
      "text/plain": [
       "                    Qualification           Experience Rating  \\\n",
       "0           BHMS, MD - Homeopathy  24 years experience   100%   \n",
       "1    BAMS, MD - Ayurveda Medicine  12 years experience    98%   \n",
       "2  MBBS, MS - Otorhinolaryngology   9 years experience    NaN   \n",
       "3             BSc - Zoology, BAMS  12 years experience    NaN   \n",
       "4                            BAMS  20 years experience   100%   \n",
       "\n",
       "                          Place         Profile  \\\n",
       "0           Kakkanad, Ernakulam       Homeopath   \n",
       "1         Whitefield, Bangalore        Ayurveda   \n",
       "2    Mathikere - BEL, Bangalore  ENT Specialist   \n",
       "3  Bannerghatta Road, Bangalore        Ayurveda   \n",
       "4         Keelkattalai, Chennai        Ayurveda   \n",
       "\n",
       "                                  Miscellaneous_Info  Fees  \n",
       "0               100% 16 Feedback Kakkanad, Ernakulam   100  \n",
       "1              98% 76 Feedback Whitefield, Bangalore   350  \n",
       "2                                                NaN   300  \n",
       "3  Bannerghatta Road, Bangalore ?250 Available on...   250  \n",
       "4              100% 4 Feedback Keelkattalai, Chennai   250  "
      ]
     },
     "execution_count": 161,
     "metadata": {},
     "output_type": "execute_result"
    }
   ],
   "source": [
    "df_train.head()"
   ]
  },
  {
   "cell_type": "code",
   "execution_count": 162,
   "metadata": {},
   "outputs": [
    {
     "data": {
      "text/html": [
       "<div>\n",
       "<style scoped>\n",
       "    .dataframe tbody tr th:only-of-type {\n",
       "        vertical-align: middle;\n",
       "    }\n",
       "\n",
       "    .dataframe tbody tr th {\n",
       "        vertical-align: top;\n",
       "    }\n",
       "\n",
       "    .dataframe thead th {\n",
       "        text-align: right;\n",
       "    }\n",
       "</style>\n",
       "<table border=\"1\" class=\"dataframe\">\n",
       "  <thead>\n",
       "    <tr style=\"text-align: right;\">\n",
       "      <th></th>\n",
       "      <th>Qualification</th>\n",
       "      <th>Experience</th>\n",
       "      <th>Rating</th>\n",
       "      <th>Place</th>\n",
       "      <th>Profile</th>\n",
       "      <th>Miscellaneous_Info</th>\n",
       "      <th>Fees</th>\n",
       "    </tr>\n",
       "  </thead>\n",
       "  <tbody>\n",
       "    <tr>\n",
       "      <td>0</td>\n",
       "      <td>BHMS, MD - Homeopathy</td>\n",
       "      <td>24 years experience</td>\n",
       "      <td>100%</td>\n",
       "      <td>Kakkanad, Ernakulam</td>\n",
       "      <td>Homeopath</td>\n",
       "      <td>100% 16 Feedback Kakkanad, Ernakulam</td>\n",
       "      <td>100</td>\n",
       "    </tr>\n",
       "    <tr>\n",
       "      <td>1</td>\n",
       "      <td>BAMS, MD - Ayurveda Medicine</td>\n",
       "      <td>12 years experience</td>\n",
       "      <td>98%</td>\n",
       "      <td>Whitefield, Bangalore</td>\n",
       "      <td>Ayurveda</td>\n",
       "      <td>98% 76 Feedback Whitefield, Bangalore</td>\n",
       "      <td>350</td>\n",
       "    </tr>\n",
       "    <tr>\n",
       "      <td>2</td>\n",
       "      <td>MBBS, MS - Otorhinolaryngology</td>\n",
       "      <td>9 years experience</td>\n",
       "      <td>NaN</td>\n",
       "      <td>Mathikere - BEL, Bangalore</td>\n",
       "      <td>ENT Specialist</td>\n",
       "      <td>NaN</td>\n",
       "      <td>300</td>\n",
       "    </tr>\n",
       "    <tr>\n",
       "      <td>3</td>\n",
       "      <td>BSc - Zoology, BAMS</td>\n",
       "      <td>12 years experience</td>\n",
       "      <td>NaN</td>\n",
       "      <td>Bannerghatta Road, Bangalore</td>\n",
       "      <td>Ayurveda</td>\n",
       "      <td>Bannerghatta Road, Bangalore ?250 Available on...</td>\n",
       "      <td>250</td>\n",
       "    </tr>\n",
       "    <tr>\n",
       "      <td>4</td>\n",
       "      <td>BAMS</td>\n",
       "      <td>20 years experience</td>\n",
       "      <td>100%</td>\n",
       "      <td>Keelkattalai, Chennai</td>\n",
       "      <td>Ayurveda</td>\n",
       "      <td>100% 4 Feedback Keelkattalai, Chennai</td>\n",
       "      <td>250</td>\n",
       "    </tr>\n",
       "  </tbody>\n",
       "</table>\n",
       "</div>"
      ],
      "text/plain": [
       "                    Qualification           Experience Rating  \\\n",
       "0           BHMS, MD - Homeopathy  24 years experience   100%   \n",
       "1    BAMS, MD - Ayurveda Medicine  12 years experience    98%   \n",
       "2  MBBS, MS - Otorhinolaryngology   9 years experience    NaN   \n",
       "3             BSc - Zoology, BAMS  12 years experience    NaN   \n",
       "4                            BAMS  20 years experience   100%   \n",
       "\n",
       "                          Place         Profile  \\\n",
       "0           Kakkanad, Ernakulam       Homeopath   \n",
       "1         Whitefield, Bangalore        Ayurveda   \n",
       "2    Mathikere - BEL, Bangalore  ENT Specialist   \n",
       "3  Bannerghatta Road, Bangalore        Ayurveda   \n",
       "4         Keelkattalai, Chennai        Ayurveda   \n",
       "\n",
       "                                  Miscellaneous_Info  Fees  \n",
       "0               100% 16 Feedback Kakkanad, Ernakulam   100  \n",
       "1              98% 76 Feedback Whitefield, Bangalore   350  \n",
       "2                                                NaN   300  \n",
       "3  Bannerghatta Road, Bangalore ?250 Available on...   250  \n",
       "4              100% 4 Feedback Keelkattalai, Chennai   250  "
      ]
     },
     "execution_count": 162,
     "metadata": {},
     "output_type": "execute_result"
    }
   ],
   "source": [
    "df_test.head()"
   ]
  },
  {
   "cell_type": "code",
   "execution_count": 163,
   "metadata": {},
   "outputs": [
    {
     "data": {
      "text/plain": [
       "52"
      ]
     },
     "execution_count": 163,
     "metadata": {},
     "output_type": "execute_result"
    }
   ],
   "source": [
    "len(df_train['Rating'].unique())"
   ]
  },
  {
   "cell_type": "code",
   "execution_count": 164,
   "metadata": {},
   "outputs": [
    {
     "data": {
      "text/plain": [
       "2999"
      ]
     },
     "execution_count": 164,
     "metadata": {},
     "output_type": "execute_result"
    }
   ],
   "source": [
    "len(df_train['Miscellaneous_Info'].unique())"
   ]
  },
  {
   "cell_type": "markdown",
   "metadata": {},
   "source": [
    "### Imputing Missing Values with Medians"
   ]
  },
  {
   "cell_type": "code",
   "execution_count": 165,
   "metadata": {},
   "outputs": [
    {
     "data": {
      "text/plain": [
       "Qualification            0\n",
       "Experience               0\n",
       "Rating                3302\n",
       "Place                   25\n",
       "Profile                  0\n",
       "Miscellaneous_Info    2620\n",
       "Fees                     0\n",
       "dtype: int64"
      ]
     },
     "execution_count": 165,
     "metadata": {},
     "output_type": "execute_result"
    }
   ],
   "source": [
    "df_train.isnull().sum()"
   ]
  },
  {
   "cell_type": "code",
   "execution_count": 166,
   "metadata": {},
   "outputs": [
    {
     "data": {
      "text/plain": [
       "Qualification         object\n",
       "Experience            object\n",
       "Rating                object\n",
       "Place                 object\n",
       "Profile               object\n",
       "Miscellaneous_Info    object\n",
       "Fees                   int64\n",
       "dtype: object"
      ]
     },
     "execution_count": 166,
     "metadata": {},
     "output_type": "execute_result"
    }
   ],
   "source": [
    "df_train.dtypes"
   ]
  },
  {
   "cell_type": "code",
   "execution_count": 167,
   "metadata": {},
   "outputs": [
    {
     "data": {
      "text/plain": [
       "100%    684\n",
       "98%     290\n",
       "99%     259\n",
       "97%     241\n",
       "96%     220\n",
       "95%     178\n",
       "94%     115\n",
       "93%     109\n",
       "90%      66\n",
       "92%      66\n",
       "91%      60\n",
       "89%      42\n",
       "88%      41\n",
       "85%      27\n",
       "82%      23\n",
       "86%      21\n",
       "83%      21\n",
       "80%      19\n",
       "77%      16\n",
       "87%      14\n",
       "84%      13\n",
       "79%      13\n",
       "67%      12\n",
       "81%      12\n",
       "76%       9\n",
       "71%       9\n",
       "73%       8\n",
       "75%       8\n",
       "60%       7\n",
       "74%       7\n",
       "78%       6\n",
       "56%       5\n",
       "68%       5\n",
       "70%       4\n",
       "69%       4\n",
       "57%       3\n",
       "72%       3\n",
       "64%       2\n",
       "55%       2\n",
       "63%       2\n",
       "33%       2\n",
       "62%       2\n",
       "7%        1\n",
       "45%       1\n",
       "53%       1\n",
       "36%       1\n",
       "48%       1\n",
       "65%       1\n",
       "47%       1\n",
       "58%       1\n",
       "40%       1\n",
       "Name: Rating, dtype: int64"
      ]
     },
     "execution_count": 167,
     "metadata": {},
     "output_type": "execute_result"
    }
   ],
   "source": [
    "df_train['Rating'].value_counts()"
   ]
  },
  {
   "cell_type": "code",
   "execution_count": 125,
   "metadata": {},
   "outputs": [
    {
     "data": {
      "text/plain": [
       "HSR Layout, Bangalore              75\n",
       "Andheri West, Mumbai               70\n",
       "Dwarka, Delhi                      67\n",
       "Banjara Hills, Hyderabad           64\n",
       "Mulund West, Mumbai                54\n",
       "                                   ..\n",
       "Nanjundapuram, Coimbatore           1\n",
       "Kallambalam, Thiruvananthapuram     1\n",
       "TV Chalai, Thiruvananthapuram       1\n",
       "Cherannagar, Coimbatore             1\n",
       "Badarpur, Delhi                     1\n",
       "Name: Place, Length: 877, dtype: int64"
      ]
     },
     "execution_count": 125,
     "metadata": {},
     "output_type": "execute_result"
    }
   ],
   "source": [
    "df_train['Place'].value_counts()"
   ]
  },
  {
   "cell_type": "code",
   "execution_count": 124,
   "metadata": {},
   "outputs": [
    {
     "data": {
      "text/plain": [
       "100% 16 Feedback Kakkanad, Ernakulam                                                        2621\n",
       "Acrylic Partial Denture Crowns and Bridges Fixing Artificial Teeth                            40\n",
       "Dental Fillings Zirconia Crowns Dental Implant Fixing                                         12\n",
       "Tooth Extraction Dental Fillings Scaling / Polishing                                          12\n",
       "Skin Allergy Treatment Skin Allergies Dermabrasion                                             9\n",
       "                                                                                            ... \n",
       "Cast Partial Denture Impaction / Impacted Tooth Extraction Cosmetic/ Aesthetic Dentistry       1\n",
       "97% 13 Feedback Laxmi Nagar, Delhi                                                             1\n",
       "Oral & Maxillofacial Surgery Oral Surgery Procedures Jaw Reshaping                             1\n",
       "Kailash Colony, Delhi ?200 Available Today                                                     1\n",
       "91% 3 Feedback Purasawakkam, Chennai                                                           1\n",
       "Name: Miscellaneous_Info, Length: 2998, dtype: int64"
      ]
     },
     "execution_count": 124,
     "metadata": {},
     "output_type": "execute_result"
    }
   ],
   "source": [
    "df_train['Miscellaneous_Info'].value_counts()"
   ]
  },
  {
   "cell_type": "code",
   "execution_count": 168,
   "metadata": {},
   "outputs": [],
   "source": [
    "df_train['Rating']=df_train.Rating.transform(lambda x: x.fillna('100%'))\n",
    "df_train['Place']=df_train.Place.transform(lambda x: x.fillna('HSR Layout, Bangalore '))\n",
    "df_train['Miscellaneous_Info']=df_train.Miscellaneous_Info.transform(lambda x: x.fillna('100% 16 Feedback Kakkanad, Ernakulam'))"
   ]
  },
  {
   "cell_type": "code",
   "execution_count": 137,
   "metadata": {},
   "outputs": [
    {
     "data": {
      "text/plain": [
       "Qualification         0\n",
       "Experience            0\n",
       "Rating                0\n",
       "Place                 0\n",
       "Profile               0\n",
       "Miscellaneous_Info    0\n",
       "Fees                  0\n",
       "dtype: int64"
      ]
     },
     "execution_count": 137,
     "metadata": {},
     "output_type": "execute_result"
    }
   ],
   "source": [
    "df_train.isnull().sum()"
   ]
  },
  {
   "cell_type": "code",
   "execution_count": 13,
   "metadata": {},
   "outputs": [
    {
     "data": {
      "text/plain": [
       "HSR Layout, Bangalore              100\n",
       "Andheri West, Mumbai                70\n",
       "Dwarka, Delhi                       67\n",
       "Banjara Hills, Hyderabad            64\n",
       "Mulund West, Mumbai                 54\n",
       "                                  ... \n",
       "Nanjundapuram, Coimbatore            1\n",
       "Kallambalam, Thiruvananthapuram      1\n",
       "TV Chalai, Thiruvananthapuram        1\n",
       "Cherannagar, Coimbatore              1\n",
       "Badarpur, Delhi                      1\n",
       "Name: Place, Length: 877, dtype: int64"
      ]
     },
     "execution_count": 13,
     "metadata": {},
     "output_type": "execute_result"
    }
   ],
   "source": [
    "df_train['Place'].value_counts()"
   ]
  },
  {
   "cell_type": "code",
   "execution_count": 21,
   "metadata": {},
   "outputs": [
    {
     "data": {
      "text/plain": [
       "BDS                                                                        240\n",
       "MBBS, MD - Dermatology                                                     117\n",
       "BHMS                                                                       110\n",
       "MBBS, MS - ENT                                                              97\n",
       "BAMS                                                                        76\n",
       "                                                                          ... \n",
       "BDS, Diploma in Implanthology, Advanced Endotontic Course On Root Canal      1\n",
       "MBBS, Fellowship in Diabetology(Royal Liverpool Academy, UK)                 1\n",
       "BAMS, Certificate Course In Therapeutic Yoga                                 1\n",
       "BAMS, MD - Ayurveda Medicine, Post Graduate Diploma In Yoga                  1\n",
       "MBBS, DDVL, MD - Dermatology , Venereology & Leprosy                         1\n",
       "Name: Qualification, Length: 846, dtype: int64"
      ]
     },
     "execution_count": 21,
     "metadata": {},
     "output_type": "execute_result"
    }
   ],
   "source": [
    "df_train['Qualification'].value_counts()"
   ]
  },
  {
   "cell_type": "code",
   "execution_count": 22,
   "metadata": {},
   "outputs": [
    {
     "data": {
      "text/plain": [
       "Dentist             862\n",
       "Dermatologists      628\n",
       "General Medicine    371\n",
       "ENT Specialist      295\n",
       "Homeopath           246\n",
       "Ayurveda            175\n",
       "Name: Profile, dtype: int64"
      ]
     },
     "execution_count": 22,
     "metadata": {},
     "output_type": "execute_result"
    }
   ],
   "source": [
    "df_train['Profile'].value_counts()"
   ]
  },
  {
   "cell_type": "markdown",
   "metadata": {},
   "source": [
    "# 3. Exploratory Data Analysis Data Visualization"
   ]
  },
  {
   "cell_type": "code",
   "execution_count": 17,
   "metadata": {},
   "outputs": [
    {
     "data": {
      "text/plain": [
       "[Text(0, 0, '24 years experience'),\n",
       " Text(0, 0, '12 years experience'),\n",
       " Text(0, 0, '20 years experience'),\n",
       " Text(0, 0, '10 years experience'),\n",
       " Text(0, 0, '9 years experience'),\n",
       " Text(0, 0, '19 years experience'),\n",
       " Text(0, 0, '21 years experience'),\n",
       " Text(0, 0, '25 years experience'),\n",
       " Text(0, 0, '15 years experience'),\n",
       " Text(0, 0, '7 years experience'),\n",
       " Text(0, 0, '14 years experience'),\n",
       " Text(0, 0, '23 years experience'),\n",
       " Text(0, 0, '31 years experience'),\n",
       " Text(0, 0, '8 years experience'),\n",
       " Text(0, 0, '22 years experience'),\n",
       " Text(0, 0, '16 years experience'),\n",
       " Text(0, 0, '11 years experience'),\n",
       " Text(0, 0, '38 years experience'),\n",
       " Text(0, 0, '6 years experience'),\n",
       " Text(0, 0, '36 years experience'),\n",
       " Text(0, 0, '13 years experience'),\n",
       " Text(0, 0, '41 years experience'),\n",
       " Text(0, 0, '40 years experience'),\n",
       " Text(0, 0, '30 years experience'),\n",
       " Text(0, 0, '26 years experience'),\n",
       " Text(0, 0, '5 years experience'),\n",
       " Text(0, 0, '34 years experience'),\n",
       " Text(0, 0, '39 years experience'),\n",
       " Text(0, 0, '35 years experience'),\n",
       " Text(0, 0, '18 years experience'),\n",
       " Text(0, 0, '17 years experience'),\n",
       " Text(0, 0, '28 years experience'),\n",
       " Text(0, 0, '27 years experience'),\n",
       " Text(0, 0, '58 years experience'),\n",
       " Text(0, 0, '46 years experience'),\n",
       " Text(0, 0, '33 years experience'),\n",
       " Text(0, 0, '44 years experience'),\n",
       " Text(0, 0, '4 years experience'),\n",
       " Text(0, 0, '29 years experience'),\n",
       " Text(0, 0, '45 years experience'),\n",
       " Text(0, 0, '37 years experience'),\n",
       " Text(0, 0, '43 years experience'),\n",
       " Text(0, 0, '32 years experience'),\n",
       " Text(0, 0, '42 years experience'),\n",
       " Text(0, 0, '47 years experience'),\n",
       " Text(0, 0, '48 years experience'),\n",
       " Text(0, 0, '3 years experience'),\n",
       " Text(0, 0, '50 years experience'),\n",
       " Text(0, 0, '53 years experience'),\n",
       " Text(0, 0, '49 years experience'),\n",
       " Text(0, 0, '0 years experience'),\n",
       " Text(0, 0, '2 years experience'),\n",
       " Text(0, 0, '51 years experience'),\n",
       " Text(0, 0, '56 years experience'),\n",
       " Text(0, 0, '52 years experience')]"
      ]
     },
     "execution_count": 17,
     "metadata": {},
     "output_type": "execute_result"
    },
    {
     "data": {
      "image/png": "[encoded data removed]",
      "text/plain": [
       "<Figure size 720x360 with 1 Axes>"
      ]
     },
     "metadata": {
      "needs_background": "light"
     },
     "output_type": "display_data"
    }
   ],
   "source": [
    "plt.figure(figsize=(10,5))\n",
    "chart = sns.countplot(\n",
    "    data=df_train,\n",
    "    x='Experience',\n",
    "    palette='Set1'\n",
    ")\n",
    "chart.set_xticklabels(chart.get_xticklabels(), rotation=65)"
   ]
  },
  {
   "cell_type": "code",
   "execution_count": 19,
   "metadata": {},
   "outputs": [
    {
     "data": {
      "text/plain": [
       "[Text(0, 0, '100%'),\n",
       " Text(0, 0, '98%'),\n",
       " Text(0, 0, '99%'),\n",
       " Text(0, 0, '79%'),\n",
       " Text(0, 0, '95%'),\n",
       " Text(0, 0, '97%'),\n",
       " Text(0, 0, '94%'),\n",
       " Text(0, 0, '88%'),\n",
       " Text(0, 0, '90%'),\n",
       " Text(0, 0, '80%'),\n",
       " Text(0, 0, '93%'),\n",
       " Text(0, 0, '36%'),\n",
       " Text(0, 0, '78%'),\n",
       " Text(0, 0, '87%'),\n",
       " Text(0, 0, '96%'),\n",
       " Text(0, 0, '82%'),\n",
       " Text(0, 0, '89%'),\n",
       " Text(0, 0, '74%'),\n",
       " Text(0, 0, '86%'),\n",
       " Text(0, 0, '92%'),\n",
       " Text(0, 0, '83%'),\n",
       " Text(0, 0, '76%'),\n",
       " Text(0, 0, '85%'),\n",
       " Text(0, 0, '56%'),\n",
       " Text(0, 0, '91%'),\n",
       " Text(0, 0, '68%'),\n",
       " Text(0, 0, '60%'),\n",
       " Text(0, 0, '75%'),\n",
       " Text(0, 0, '69%'),\n",
       " Text(0, 0, '73%'),\n",
       " Text(0, 0, '67%'),\n",
       " Text(0, 0, '77%'),\n",
       " Text(0, 0, '33%'),\n",
       " Text(0, 0, '55%'),\n",
       " Text(0, 0, '71%'),\n",
       " Text(0, 0, '84%'),\n",
       " Text(0, 0, '45%'),\n",
       " Text(0, 0, '63%'),\n",
       " Text(0, 0, '72%'),\n",
       " Text(0, 0, '81%'),\n",
       " Text(0, 0, '62%'),\n",
       " Text(0, 0, '57%'),\n",
       " Text(0, 0, '7%'),\n",
       " Text(0, 0, '48%'),\n",
       " Text(0, 0, '40%'),\n",
       " Text(0, 0, '64%'),\n",
       " Text(0, 0, '70%'),\n",
       " Text(0, 0, '65%'),\n",
       " Text(0, 0, '47%'),\n",
       " Text(0, 0, '58%'),\n",
       " Text(0, 0, '53%')]"
      ]
     },
     "execution_count": 19,
     "metadata": {},
     "output_type": "execute_result"
    },
    {
     "data": {
      "image/png": "[encoded data removed]",
      "text/plain": [
       "<Figure size 720x360 with 1 Axes>"
      ]
     },
     "metadata": {},
     "output_type": "display_data"
    }
   ],
   "source": [
    "plt.figure(figsize=(10,5))\n",
    "chart = sns.countplot(\n",
    "    data=df_train,\n",
    "    x='Rating',\n",
    "    palette='Set1'\n",
    ")\n",
    "chart.set_xticklabels(chart.get_xticklabels(), rotation=65)"
   ]
  },
  {
   "cell_type": "code",
   "execution_count": 23,
   "metadata": {},
   "outputs": [
    {
     "data": {
      "image/png": "[encoded data removed]",
      "text/plain": [
       "<Figure size 432x288 with 1 Axes>"
      ]
     },
     "metadata": {},
     "output_type": "display_data"
    }
   ],
   "source": [
    "sns.set(style=\"darkgrid\")\n",
    "ax = sns.countplot(x=\"Profile\", data=df_train)"
   ]
  },
  {
   "cell_type": "code",
   "execution_count": 44,
   "metadata": {},
   "outputs": [
    {
     "data": {
      "text/plain": [
       "[Text(0, 0, 'No info'),\n",
       " Text(0, 0, 'In-flight meal not included'),\n",
       " Text(0, 0, 'No check-in baggage included'),\n",
       " Text(0, 0, '1 Short layover'),\n",
       " Text(0, 0, 'No Info'),\n",
       " Text(0, 0, '1 Long layover'),\n",
       " Text(0, 0, 'Change airports'),\n",
       " Text(0, 0, 'Business class'),\n",
       " Text(0, 0, 'Red-eye flight'),\n",
       " Text(0, 0, '2 Long layover')]"
      ]
     },
     "execution_count": 44,
     "metadata": {},
     "output_type": "execute_result"
    },
    {
     "data": {
      "image/png": "[encoded data removed]",
      "text/plain": [
       "<Figure size 720x360 with 1 Axes>"
      ]
     },
     "metadata": {},
     "output_type": "display_data"
    }
   ],
   "source": [
    "plt.figure(figsize=(10,5))\n",
    "chart = sns.countplot(\n",
    "    data=df_train,\n",
    "    x='Additional_Info',\n",
    "    palette='Set1'\n",
    ")\n",
    "chart.set_xticklabels(chart.get_xticklabels(), rotation=45)"
   ]
  },
  {
   "cell_type": "markdown",
   "metadata": {},
   "source": [
    "# 4. Data pre-processing and cleaning"
   ]
  },
  {
   "cell_type": "markdown",
   "metadata": {},
   "source": [
    "## A. Cleaning data Manually"
   ]
  },
  {
   "cell_type": "markdown",
   "metadata": {},
   "source": [
    "#### Other way to remove outliers is zscore but it needs all fetures to be numerical"
   ]
  },
  {
   "cell_type": "markdown",
   "metadata": {},
   "source": [
    "## B.Converting all features to numerical features "
   ]
  },
  {
   "cell_type": "code",
   "execution_count": 169,
   "metadata": {},
   "outputs": [
    {
     "data": {
      "text/plain": [
       "Index(['Qualification', 'Experience', 'Rating', 'Place', 'Profile',\n",
       "       'Miscellaneous_Info', 'Fees'],\n",
       "      dtype='object')"
      ]
     },
     "execution_count": 169,
     "metadata": {},
     "output_type": "execute_result"
    }
   ],
   "source": [
    "df_train.columns"
   ]
  },
  {
   "cell_type": "markdown",
   "metadata": {},
   "source": [
    "#### First we need to convert the string values to int so that we can apply the distance based models like KNN "
   ]
  },
  {
   "cell_type": "code",
   "execution_count": 170,
   "metadata": {},
   "outputs": [],
   "source": [
    "from sklearn import preprocessing\n",
    "label_encoder = preprocessing.LabelEncoder()\n",
    "df_train['Qualification']= label_encoder.fit_transform(df_train['Qualification']) \n",
    "df_train['Experience']= label_encoder.fit_transform(df_train['Experience'])  \n",
    "df_train['Rating']= label_encoder.fit_transform(df_train['Rating']) \n",
    "df_train['Place']= label_encoder.fit_transform(df_train['Place']) \n",
    "df_train['Profile']= label_encoder.fit_transform(df_train['Profile']) \n",
    "df_train['Miscellaneous_Info']= label_encoder.fit_transform(df_train['Miscellaneous_Info']) \n"
   ]
  },
  {
   "cell_type": "markdown",
   "metadata": {},
   "source": [
    "## C.Removing Unwanted columns"
   ]
  },
  {
   "cell_type": "markdown",
   "metadata": {},
   "source": [
    "## D.Removing outliers using standard methods"
   ]
  },
  {
   "cell_type": "code",
   "execution_count": 171,
   "metadata": {},
   "outputs": [
    {
     "name": "stdout",
     "output_type": "stream",
     "text": [
      "(array([ 275,  293,  987, 1314, 1631, 2165, 2252, 2393, 2428, 2522, 2623,\n",
      "       2708, 3365, 4040, 4581, 4730, 4835, 5195, 5250, 5311], dtype=int64), array([6, 6, 6, 6, 6, 6, 6, 6, 6, 6, 6, 6, 6, 6, 6, 6, 6, 6, 6, 6],\n",
      "      dtype=int64))\n"
     ]
    }
   ],
   "source": [
    "# If data has outliers then we can remove them by using zscore<br>\n",
    "from scipy import stats\n",
    "z=abs(stats.zscore(df_train))\n",
    "print(np.where(z>3))\n",
    "df_train=df_train[(z<3).all(axis=1)]"
   ]
  },
  {
   "cell_type": "markdown",
   "metadata": {},
   "source": [
    "### E .Train_test Split"
   ]
  },
  {
   "cell_type": "code",
   "execution_count": 172,
   "metadata": {},
   "outputs": [],
   "source": [
    "y=df_train['Fees']\n",
    "x=df_train.drop(['Fees'],axis=1)"
   ]
  },
  {
   "cell_type": "code",
   "execution_count": 173,
   "metadata": {},
   "outputs": [
    {
     "data": {
      "text/plain": [
       "0       100\n",
       "1       350\n",
       "2       300\n",
       "3       250\n",
       "4       250\n",
       "       ... \n",
       "5956    300\n",
       "5957    100\n",
       "5958    600\n",
       "5959    100\n",
       "5960    200\n",
       "Name: Fees, Length: 5941, dtype: int64"
      ]
     },
     "execution_count": 173,
     "metadata": {},
     "output_type": "execute_result"
    }
   ],
   "source": [
    "y"
   ]
  },
  {
   "cell_type": "code",
   "execution_count": 174,
   "metadata": {},
   "outputs": [],
   "source": [
    "X_train, X_cv, y_train, y_cv = train_test_split(x, y, test_size=0.33, random_state=42)"
   ]
  },
  {
   "cell_type": "code",
   "execution_count": 175,
   "metadata": {},
   "outputs": [],
   "source": [
    "X_test=df_test"
   ]
  },
  {
   "cell_type": "code",
   "execution_count": 176,
   "metadata": {},
   "outputs": [
    {
     "data": {
      "text/html": [
       "<div>\n",
       "<style scoped>\n",
       "    .dataframe tbody tr th:only-of-type {\n",
       "        vertical-align: middle;\n",
       "    }\n",
       "\n",
       "    .dataframe tbody tr th {\n",
       "        vertical-align: top;\n",
       "    }\n",
       "\n",
       "    .dataframe thead th {\n",
       "        text-align: right;\n",
       "    }\n",
       "</style>\n",
       "<table border=\"1\" class=\"dataframe\">\n",
       "  <thead>\n",
       "    <tr style=\"text-align: right;\">\n",
       "      <th></th>\n",
       "      <th>Qualification</th>\n",
       "      <th>Experience</th>\n",
       "      <th>Rating</th>\n",
       "      <th>Place</th>\n",
       "      <th>Profile</th>\n",
       "      <th>Miscellaneous_Info</th>\n",
       "    </tr>\n",
       "  </thead>\n",
       "  <tbody>\n",
       "    <tr>\n",
       "      <td>5816</td>\n",
       "      <td>40</td>\n",
       "      <td>44</td>\n",
       "      <td>50</td>\n",
       "      <td>413</td>\n",
       "      <td>0</td>\n",
       "      <td>1481</td>\n",
       "    </tr>\n",
       "    <tr>\n",
       "      <td>1627</td>\n",
       "      <td>309</td>\n",
       "      <td>8</td>\n",
       "      <td>50</td>\n",
       "      <td>227</td>\n",
       "      <td>1</td>\n",
       "      <td>2647</td>\n",
       "    </tr>\n",
       "    <tr>\n",
       "      <td>3442</td>\n",
       "      <td>285</td>\n",
       "      <td>62</td>\n",
       "      <td>0</td>\n",
       "      <td>542</td>\n",
       "      <td>1</td>\n",
       "      <td>1595</td>\n",
       "    </tr>\n",
       "    <tr>\n",
       "      <td>2124</td>\n",
       "      <td>134</td>\n",
       "      <td>8</td>\n",
       "      <td>0</td>\n",
       "      <td>340</td>\n",
       "      <td>1</td>\n",
       "      <td>2638</td>\n",
       "    </tr>\n",
       "    <tr>\n",
       "      <td>2696</td>\n",
       "      <td>943</td>\n",
       "      <td>31</td>\n",
       "      <td>0</td>\n",
       "      <td>436</td>\n",
       "      <td>4</td>\n",
       "      <td>130</td>\n",
       "    </tr>\n",
       "    <tr>\n",
       "      <td>...</td>\n",
       "      <td>...</td>\n",
       "      <td>...</td>\n",
       "      <td>...</td>\n",
       "      <td>...</td>\n",
       "      <td>...</td>\n",
       "      <td>...</td>\n",
       "    </tr>\n",
       "    <tr>\n",
       "      <td>1877</td>\n",
       "      <td>1075</td>\n",
       "      <td>38</td>\n",
       "      <td>24</td>\n",
       "      <td>170</td>\n",
       "      <td>3</td>\n",
       "      <td>447</td>\n",
       "    </tr>\n",
       "    <tr>\n",
       "      <td>5863</td>\n",
       "      <td>874</td>\n",
       "      <td>5</td>\n",
       "      <td>45</td>\n",
       "      <td>294</td>\n",
       "      <td>2</td>\n",
       "      <td>913</td>\n",
       "    </tr>\n",
       "    <tr>\n",
       "      <td>191</td>\n",
       "      <td>203</td>\n",
       "      <td>4</td>\n",
       "      <td>46</td>\n",
       "      <td>448</td>\n",
       "      <td>1</td>\n",
       "      <td>1583</td>\n",
       "    </tr>\n",
       "    <tr>\n",
       "      <td>2799</td>\n",
       "      <td>10</td>\n",
       "      <td>5</td>\n",
       "      <td>0</td>\n",
       "      <td>434</td>\n",
       "      <td>0</td>\n",
       "      <td>130</td>\n",
       "    </tr>\n",
       "    <tr>\n",
       "      <td>108</td>\n",
       "      <td>94</td>\n",
       "      <td>7</td>\n",
       "      <td>0</td>\n",
       "      <td>873</td>\n",
       "      <td>0</td>\n",
       "      <td>230</td>\n",
       "    </tr>\n",
       "  </tbody>\n",
       "</table>\n",
       "<p>1961 rows × 6 columns</p>\n",
       "</div>"
      ],
      "text/plain": [
       "      Qualification  Experience  Rating  Place  Profile  Miscellaneous_Info\n",
       "5816             40          44      50    413        0                1481\n",
       "1627            309           8      50    227        1                2647\n",
       "3442            285          62       0    542        1                1595\n",
       "2124            134           8       0    340        1                2638\n",
       "2696            943          31       0    436        4                 130\n",
       "...             ...         ...     ...    ...      ...                 ...\n",
       "1877           1075          38      24    170        3                 447\n",
       "5863            874           5      45    294        2                 913\n",
       "191             203           4      46    448        1                1583\n",
       "2799             10           5       0    434        0                 130\n",
       "108              94           7       0    873        0                 230\n",
       "\n",
       "[1961 rows x 6 columns]"
      ]
     },
     "execution_count": 176,
     "metadata": {},
     "output_type": "execute_result"
    }
   ],
   "source": [
    "round(X_train, 2)\n",
    "round(X_cv, 2)"
   ]
  },
  {
   "cell_type": "code",
   "execution_count": 177,
   "metadata": {},
   "outputs": [],
   "source": [
    "from sklearn.preprocessing import Normalizer\n",
    "feature_scaler = Normalizer()\n",
    "X_train = feature_scaler.fit_transform(X_train)\n",
    "X_cv = feature_scaler.transform(X_cv)"
   ]
  },
  {
   "cell_type": "code",
   "execution_count": 26,
   "metadata": {},
   "outputs": [],
   "source": [
    "from sklearn.preprocessing import StandardScaler\n",
    "feature_scaler = StandardScaler()\n",
    "X_train = feature_scaler.fit_transform(X_train)\n",
    "X_cv = feature_scaler.transform(X_cv)"
   ]
  },
  {
   "cell_type": "code",
   "execution_count": 94,
   "metadata": {},
   "outputs": [
    {
     "data": {
      "text/plain": [
       "(1961, 6)"
      ]
     },
     "execution_count": 94,
     "metadata": {},
     "output_type": "execute_result"
    }
   ],
   "source": [
    "X_cv.shape"
   ]
  },
  {
   "cell_type": "markdown",
   "metadata": {},
   "source": [
    "# 5. Building Models"
   ]
  },
  {
   "cell_type": "markdown",
   "metadata": {},
   "source": [
    "# Model1 : KNN"
   ]
  },
  {
   "cell_type": "code",
   "execution_count": 178,
   "metadata": {},
   "outputs": [
    {
     "data": {
      "text/plain": [
       "GridSearchCV(cv=5, error_score='raise-deprecating',\n",
       "             estimator=KNeighborsRegressor(algorithm='auto', leaf_size=30,\n",
       "                                           metric='minkowski',\n",
       "                                           metric_params=None, n_jobs=None,\n",
       "                                           n_neighbors=5, p=2,\n",
       "                                           weights='uniform'),\n",
       "             iid='warn', n_jobs=None,\n",
       "             param_grid={'n_neighbors': range(1, 100, 10)},\n",
       "             pre_dispatch='2*n_jobs', refit=True, return_train_score=False,\n",
       "             scoring=None, verbose=0)"
      ]
     },
     "execution_count": 178,
     "metadata": {},
     "output_type": "execute_result"
    }
   ],
   "source": [
    "from sklearn.model_selection import GridSearchCV\n",
    "from sklearn.neighbors import KNeighborsRegressor\n",
    "neigh = KNeighborsRegressor()\n",
    "\n",
    "parameters = {'n_neighbors': range(1,100,10)}\n",
    "\n",
    "clf = GridSearchCV(neigh, parameters, cv= 5)\n",
    "\n",
    "clf.fit(X_train, y_train)\n",
    "\n"
   ]
  },
  {
   "cell_type": "code",
   "execution_count": 179,
   "metadata": {},
   "outputs": [
    {
     "data": {
      "text/plain": [
       "{'n_neighbors': 91}"
      ]
     },
     "execution_count": 179,
     "metadata": {},
     "output_type": "execute_result"
    }
   ],
   "source": [
    "clf.best_params_"
   ]
  },
  {
   "cell_type": "code",
   "execution_count": 180,
   "metadata": {},
   "outputs": [
    {
     "name": "stdout",
     "output_type": "stream",
     "text": [
      "0.09175182220934963\n"
     ]
    }
   ],
   "source": [
    "#KNN classifier sklearn : https://scikit-learn.org/stable/modules/generated/sklearn.neighbors.KNeighborsClassifier.html\n",
    "from sklearn.neighbors import KNeighborsRegressor\n",
    "from sklearn.metrics import r2_score\n",
    "\n",
    "neigh = KNeighborsRegressor(n_neighbors=91)\n",
    "neigh.fit(X_train, y_train)\n",
    "\n",
    "y_cv_pred = neigh.predict(X_cv)\n",
    "print(r2_score(y_cv,y_cv_pred))\n"
   ]
  },
  {
   "cell_type": "markdown",
   "metadata": {},
   "source": [
    "# Model 3 : Linear regression "
   ]
  },
  {
   "cell_type": "code",
   "execution_count": 187,
   "metadata": {},
   "outputs": [
    {
     "name": "stdout",
     "output_type": "stream",
     "text": [
      "0.08339080455150438\n"
     ]
    }
   ],
   "source": [
    "from sklearn.linear_model import LinearRegression\n",
    "Lr = LinearRegression()\n",
    "Lr.fit(X_train, y_train)\n",
    "\n",
    "y_cv_pred = Lr.predict(X_cv)\n",
    "\n",
    "print(r2_score(y_cv,y_cv_pred))"
   ]
  },
  {
   "cell_type": "markdown",
   "metadata": {},
   "source": [
    "# Model 4 : SVM"
   ]
  },
  {
   "cell_type": "code",
   "execution_count": 189,
   "metadata": {},
   "outputs": [
    {
     "name": "stdout",
     "output_type": "stream",
     "text": [
      "SVR(C=1000, cache_size=200, coef0=0.0, degree=3, epsilon=0.1, gamma=1,\n",
      "    kernel='rbf', max_iter=-1, shrinking=True, tol=0.001, verbose=False)\n",
      "0.07592400005611488\n"
     ]
    }
   ],
   "source": [
    "from sklearn.svm import SVR\n",
    "\n",
    "parameters = [{'C': [0.1, 1, 10, 100, 1000],  \n",
    "              'gamma': [1, 0.1, 0.01, 0.001, 0.0001], \n",
    "              'kernel': ['rbf']}]   #'poly','sigmoid' takes too much time\n",
    "\n",
    "model = GridSearchCV(SVR(),parameters, cv=5)\n",
    "model.fit(X_train, y_train)    \n",
    "\n",
    "print(model.best_estimator_)\n",
    "print(model.score(X_train, y_train))"
   ]
  },
  {
   "cell_type": "code",
   "execution_count": 190,
   "metadata": {},
   "outputs": [
    {
     "data": {
      "text/plain": [
       "{'C': 1000, 'gamma': 1, 'kernel': 'rbf'}"
      ]
     },
     "execution_count": 190,
     "metadata": {},
     "output_type": "execute_result"
    }
   ],
   "source": [
    "model.best_params_"
   ]
  },
  {
   "cell_type": "code",
   "execution_count": 191,
   "metadata": {},
   "outputs": [
    {
     "name": "stderr",
     "output_type": "stream",
     "text": [
      "100%|██████████| 5/5 [00:35<00:00,  7.03s/it]\n"
     ]
    },
    {
     "name": "stdout",
     "output_type": "stream",
     "text": [
      "[-0.003720258142269417, -0.001723880629567176, 0.031713914331671055, 0.056151522386721164, 0.06638716717469863]\n"
     ]
    }
   ],
   "source": [
    "from tqdm import tqdm\n",
    "from sklearn.model_selection import cross_val_score\n",
    "\n",
    "C= [10**-4, 10**-2, 10**0, 10**2, 10**4]\n",
    "k_scores = []\n",
    "\n",
    "for k in tqdm(C):\n",
    "    #\n",
    "    svm = SVR(C=k,gamma= 1,kernel='rbf')\n",
    "    \n",
    "    scores = cross_val_score(svm,X_train, y_train, cv=10)\n",
    "    \n",
    "    k_scores.append(scores.mean())\n",
    "print(k_scores)"
   ]
  },
  {
   "cell_type": "code",
   "execution_count": 192,
   "metadata": {},
   "outputs": [],
   "source": [
    "import math as mt\n",
    "log_C=[]\n",
    "for i in C:\n",
    "     log_C.append(mt.log10(i))"
   ]
  },
  {
   "cell_type": "code",
   "execution_count": 193,
   "metadata": {},
   "outputs": [
    {
     "data": {
      "text/plain": [
       "Text(0, 0.5, 'Cross-Validated Accuracy')"
      ]
     },
     "execution_count": 193,
     "metadata": {},
     "output_type": "execute_result"
    },
    {
     "data": {
      "image/png": "[encoded data removed]",
      "text/plain": [
       "<Figure size 432x288 with 1 Axes>"
      ]
     },
     "metadata": {
      "needs_background": "light"
     },
     "output_type": "display_data"
    }
   ],
   "source": [
    "# plot the value of K for KNN (x-axis) versus the cross-validated accuracy (y-axis)\n",
    "plt.plot(log_C, k_scores)\n",
    "plt.xlabel('Value of C for SVM')\n",
    "plt.ylabel('Cross-Validated Accuracy')"
   ]
  },
  {
   "cell_type": "code",
   "execution_count": 194,
   "metadata": {
    "scrolled": false
   },
   "outputs": [
    {
     "name": "stdout",
     "output_type": "stream",
     "text": [
      "0.06778389634266757\n"
     ]
    }
   ],
   "source": [
    "from sklearn.svm import SVR\n",
    "\n",
    "clf = SVR(C=1000,gamma=1,kernel= 'rbf')\n",
    "\n",
    "clf.fit(X_train, y_train)\n",
    "\n",
    "y_cv_pred = clf.predict(X_cv)\n",
    "\n",
    "print(r2_score(y_cv,y_cv_pred))"
   ]
  },
  {
   "cell_type": "markdown",
   "metadata": {},
   "source": [
    "# Model 5 : Decision Tree"
   ]
  },
  {
   "cell_type": "code",
   "execution_count": 195,
   "metadata": {},
   "outputs": [
    {
     "name": "stdout",
     "output_type": "stream",
     "text": [
      "DecisionTreeRegressor(criterion='mse', max_depth=5, max_features=None,\n",
      "                      max_leaf_nodes=None, min_impurity_decrease=0.0,\n",
      "                      min_impurity_split=None, min_samples_leaf=1,\n",
      "                      min_samples_split=2, min_weight_fraction_leaf=0.0,\n",
      "                      presort=False, random_state=None, splitter='best')\n",
      "0.17725380793680046\n"
     ]
    }
   ],
   "source": [
    "#https://scikit-learn.org/stable/modules/generated/sklearn.ensemble.RandomForestClassifier.html\n",
    "from sklearn.model_selection import GridSearchCV\n",
    "from sklearn.tree import DecisionTreeRegressor\n",
    "\n",
    "\n",
    "parameters = {'max_depth': [5, 10, 50, 100]}\n",
    "\n",
    "clf = DecisionTreeRegressor(criterion='mse')\n",
    "\n",
    "model = GridSearchCV(clf,parameters,cv=3)\n",
    "\n",
    "model.fit(X_train, y_train)    \n",
    "\n",
    "print(model.best_estimator_)\n",
    "print(model.score(X_train, y_train))\n"
   ]
  },
  {
   "cell_type": "code",
   "execution_count": 196,
   "metadata": {},
   "outputs": [
    {
     "data": {
      "text/plain": [
       "{'max_depth': 5}"
      ]
     },
     "execution_count": 196,
     "metadata": {},
     "output_type": "execute_result"
    }
   ],
   "source": [
    "model.best_params_"
   ]
  },
  {
   "cell_type": "code",
   "execution_count": 197,
   "metadata": {},
   "outputs": [
    {
     "name": "stdout",
     "output_type": "stream",
     "text": [
      "[0.029237486121705937, 0.1073833204583297, 0.03867035921962845, 0.033705476936516876, 0.034015571631765815]\n"
     ]
    }
   ],
   "source": [
    "from sklearn.model_selection import cross_val_score\n",
    "\n",
    "max_depth= [1,5,15,25,50]\n",
    "k_scores = []\n",
    "\n",
    "for k in max_depth:\n",
    "    #\n",
    "    DT = DecisionTreeRegressor(max_depth=k,criterion='mse', min_samples_split=100)\n",
    "    \n",
    "    scores = cross_val_score(DT,X_train, y_train, cv=10)\n",
    "    \n",
    "    k_scores.append(scores.mean())\n",
    "print(k_scores)"
   ]
  },
  {
   "cell_type": "code",
   "execution_count": 198,
   "metadata": {
    "scrolled": true
   },
   "outputs": [
    {
     "data": {
      "text/plain": [
       "Text(0, 0.5, 'Cross-Validated Accuracy')"
      ]
     },
     "execution_count": 198,
     "metadata": {},
     "output_type": "execute_result"
    },
    {
     "data": {
      "image/png": "[encoded data removed]",
      "text/plain": [
       "<Figure size 432x288 with 1 Axes>"
      ]
     },
     "metadata": {
      "needs_background": "light"
     },
     "output_type": "display_data"
    }
   ],
   "source": [
    "# plot the value of K for KNN (x-axis) versus the cross-validated accuracy (y-axis)\n",
    "plt.plot(max_depth, k_scores)\n",
    "plt.xlabel('Value of C for DT')\n",
    "plt.ylabel('Cross-Validated Accuracy')"
   ]
  },
  {
   "cell_type": "markdown",
   "metadata": {},
   "source": [
    "# Traning with best hyperparameters"
   ]
  },
  {
   "cell_type": "code",
   "execution_count": 200,
   "metadata": {
    "scrolled": false
   },
   "outputs": [
    {
     "name": "stdout",
     "output_type": "stream",
     "text": [
      "0.09024403856730179\n"
     ]
    }
   ],
   "source": [
    "from sklearn.tree import DecisionTreeRegressor\n",
    "clf = DecisionTreeRegressor(criterion='mse',max_depth=5,min_samples_split=2)\n",
    "\n",
    "clf.fit(X_train, y_train)\n",
    "\n",
    "\n",
    "y_cv_pred = clf.predict(X_cv)\n",
    "\n",
    "print(r2_score(y_cv,y_cv_pred))"
   ]
  },
  {
   "cell_type": "markdown",
   "metadata": {},
   "source": [
    "# Model 6 : Ensemble Techniques "
   ]
  },
  {
   "cell_type": "markdown",
   "metadata": {},
   "source": [
    "## A. Bagging"
   ]
  },
  {
   "cell_type": "code",
   "execution_count": 201,
   "metadata": {},
   "outputs": [
    {
     "name": "stdout",
     "output_type": "stream",
     "text": [
      "RandomForestRegressor(bootstrap=True, criterion='mse', max_depth=10,\n",
      "                      max_features='auto', max_leaf_nodes=None,\n",
      "                      min_impurity_decrease=0.0, min_impurity_split=None,\n",
      "                      min_samples_leaf=1, min_samples_split=2,\n",
      "                      min_weight_fraction_leaf=0.0, n_estimators=100,\n",
      "                      n_jobs=None, oob_score=False, random_state=None,\n",
      "                      verbose=0, warm_start=False)\n",
      "0.4933107511207661\n"
     ]
    }
   ],
   "source": [
    "#https://scikit-learn.org/stable/modules/generated/sklearn.ensemble.RandomForestClassifier.html\n",
    "from sklearn.model_selection import GridSearchCV\n",
    "from sklearn.ensemble import RandomForestRegressor\n",
    "\n",
    "\n",
    "parameters = {'max_depth': [5, 10, 50, 100],'n_estimators':[10, 20 , 50, 100]}\n",
    "RF = RandomForestRegressor( criterion='mse')\n",
    "\n",
    "model = GridSearchCV(RF,parameters, cv=3)\n",
    "\n",
    "model.fit(X_train, y_train)    \n",
    "\n",
    "print(model.best_estimator_)\n",
    "print(model.score(X_train, y_train))\n"
   ]
  },
  {
   "cell_type": "code",
   "execution_count": 202,
   "metadata": {},
   "outputs": [
    {
     "name": "stdout",
     "output_type": "stream",
     "text": [
      "0.13347427972064385\n"
     ]
    }
   ],
   "source": [
    "from sklearn.ensemble import RandomForestRegressor\n",
    "from sklearn.model_selection import GridSearchCV\n",
    "\n",
    "RF=RandomForestRegressor(max_depth=10,n_estimators=100,criterion='mse' )\n",
    "RF.fit(X_train, y_train)\n",
    "\n",
    "y_cv_pred = RF.predict(X_cv)\n",
    "\n",
    "print(r2_score(y_cv,y_cv_pred))"
   ]
  },
  {
   "cell_type": "markdown",
   "metadata": {},
   "source": [
    "# Boosting"
   ]
  },
  {
   "cell_type": "code",
   "execution_count": 203,
   "metadata": {},
   "outputs": [
    {
     "name": "stdout",
     "output_type": "stream",
     "text": [
      "GradientBoostingRegressor(alpha=0.9, criterion='friedman_mse', init=None,\n",
      "                          learning_rate=0.1, loss='ls', max_depth=5,\n",
      "                          max_features=None, max_leaf_nodes=None,\n",
      "                          min_impurity_decrease=0.0, min_impurity_split=None,\n",
      "                          min_samples_leaf=1, min_samples_split=2,\n",
      "                          min_weight_fraction_leaf=0.0, n_estimators=20,\n",
      "                          n_iter_no_change=None, presort='auto',\n",
      "                          random_state=None, subsample=1.0, tol=0.0001,\n",
      "                          validation_fraction=0.1, verbose=0, warm_start=False)\n"
     ]
    }
   ],
   "source": [
    "#https://scikit-learn.org/stable/modules/generated/sklearn.ensemble.RandomForestClassifier.html\n",
    "from sklearn.model_selection import GridSearchCV\n",
    "from sklearn.ensemble import GradientBoostingRegressor\n",
    "\n",
    "\n",
    "parameters = {'max_depth': [5, 10, 50, 100],'n_estimators':[10, 20 , 50, 100]}\n",
    "\n",
    "clf = GradientBoostingRegressor()\n",
    "\n",
    "model = GridSearchCV(clf,parameters, cv=3)\n",
    "\n",
    "model.fit(X_train, y_train)    \n",
    "\n",
    "print(model.best_estimator_)\n",
    "\n"
   ]
  },
  {
   "cell_type": "code",
   "execution_count": 204,
   "metadata": {},
   "outputs": [
    {
     "name": "stdout",
     "output_type": "stream",
     "text": [
      "0.047903099147461825\n"
     ]
    }
   ],
   "source": [
    "from sklearn.model_selection import GridSearchCV\n",
    "from sklearn.ensemble import GradientBoostingRegressor\n",
    "clf=GradientBoostingRegressor(max_depth=10,n_estimators=100)\n",
    "clf.fit(X_train, y_train)\n",
    "\n",
    "y_cv_pred = clf.predict(X_cv)\n",
    "\n",
    "print(r2_score(y_cv,y_cv_pred))"
   ]
  },
  {
   "cell_type": "markdown",
   "metadata": {},
   "source": [
    "## Note: As we have very less data stascking is not advisable "
   ]
  },
  {
   "cell_type": "markdown",
   "metadata": {},
   "source": [
    "# Xgboost"
   ]
  },
  {
   "cell_type": "code",
   "execution_count": 205,
   "metadata": {},
   "outputs": [
    {
     "name": "stdout",
     "output_type": "stream",
     "text": [
      "[16:30:04] WARNING: C:/Jenkins/workspace/xgboost-win64_release_0.90/src/objective/regression_obj.cu:152: reg:linear is now deprecated in favor of reg:squarederror.\n",
      "0.14256096139430796\n"
     ]
    }
   ],
   "source": [
    "import xgboost as xgb\n",
    "xgb_model = xgb.XGBRegressor(random_state=42)\n",
    "\n",
    "xgb_model.fit(X_train, y_train)\n",
    "\n",
    "y_cv_pred = xgb_model.predict(X_cv)\n",
    "\n",
    "print(r2_score(y_cv,y_cv_pred))\n",
    "\n"
   ]
  },
  {
   "cell_type": "markdown",
   "metadata": {},
   "source": [
    "# 6.Model Comparison"
   ]
  },
  {
   "cell_type": "code",
   "execution_count": 206,
   "metadata": {},
   "outputs": [
    {
     "name": "stdout",
     "output_type": "stream",
     "text": [
      "+-------------------+----------+\n",
      "|       Model       | r2_score |\n",
      "+-------------------+----------+\n",
      "|        KNN        |  0.0917  |\n",
      "| Linear Regression |  0.0833  |\n",
      "|        SVM        |  0.0677  |\n",
      "|   Decision Tree   |  0.0902  |\n",
      "|    RandomForest   |  0.1334  |\n",
      "|        GBDT       |  0.0497  |\n",
      "|      Xgboost      |  0.1425  |\n",
      "+-------------------+----------+\n"
     ]
    }
   ],
   "source": [
    "#https://stackoverflow.com/questions/18601688/python-prettytable-example\n",
    "\n",
    "from prettytable import PrettyTable\n",
    "table = PrettyTable()\n",
    "\n",
    "#setting column names\n",
    "table.field_names = [ \"Model\", \"r2_score\"]\n",
    "\n",
    "#setting row values\n",
    "table.add_row([\"KNN\", '0.0917' ])\n",
    "table.add_row([\"Linear Regression\" ,'0.0833' ])\n",
    "table.add_row([\"SVM\", '0.0677' ])\n",
    "table.add_row([\"Decision Tree\",'0.0902' ])\n",
    "table.add_row([\"RandomForest\",'0.1334' ])\n",
    "table.add_row([\"GBDT\" ,'0.0497' ])\n",
    "table.add_row([\"Xgboost\",'0.1425' ])\n",
    "\n",
    "print(table)"
   ]
  },
  {
   "cell_type": "markdown",
   "metadata": {},
   "source": [
    "Summary:<br>\n",
    "1.Xgboost is the best model amongst all with r2score  of 0.8390<br>"
   ]
  },
  {
   "cell_type": "markdown",
   "metadata": {},
   "source": [
    "# 7.Creating Submission File"
   ]
  },
  {
   "cell_type": "code",
   "execution_count": 207,
   "metadata": {},
   "outputs": [
    {
     "data": {
      "text/plain": [
       "['finalized_model.sav']"
      ]
     },
     "execution_count": 207,
     "metadata": {},
     "output_type": "execute_result"
    }
   ],
   "source": [
    "best_model=xgb_model\n",
    "from sklearn.externals import joblib\n",
    "filename = 'finalized_model.sav'\n",
    "joblib.dump(best_model, filename)"
   ]
  }
 ],
 "metadata": {
  "kernelspec": {
   "display_name": "Python 3",
   "language": "python",
   "name": "python3"
  },
  "language_info": {
   "codemirror_mode": {
    "name": "ipython",
    "version": 3
   },
   "file_extension": ".py",
   "mimetype": "text/x-python",
   "name": "python",
   "nbconvert_exporter": "python",
   "pygments_lexer": "ipython3",
   "version": "3.6.9"
  }
 },
 "nbformat": 4,
 "nbformat_minor": 2
}
