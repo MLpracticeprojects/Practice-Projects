{
 "cells": [
  {
   "cell_type": "markdown",
   "metadata": {},
   "source": [
    "# 1. Import Necessary Libraries"
   ]
  },
  {
   "cell_type": "code",
   "execution_count": 123,
   "metadata": {},
   "outputs": [],
   "source": [
    "import numpy as np\n",
    "import pandas as pd\n",
    "import seaborn as sns \n",
    "import matplotlib.pyplot as plt\n",
    "import sklearn\n",
    "from sklearn.linear_model import LinearRegression\n",
    "from sklearn.model_selection import GridSearchCV\n",
    "\n",
    "from sklearn.model_selection import train_test_split\n",
    "\n",
    "from sklearn.metrics import roc_curve, auc,classification_report,accuracy_score\n",
    "from sklearn.metrics import mean_squared_error ,mean_absolute_error,log_loss\n",
    "from sklearn.metrics import confusion_matrix\n",
    "\n",
    "import warnings\n",
    "warnings.filterwarnings('ignore')"
   ]
  },
  {
   "cell_type": "markdown",
   "metadata": {},
   "source": [
    "# 2. Read In and Explore the Data"
   ]
  },
  {
   "cell_type": "code",
   "execution_count": 124,
   "metadata": {},
   "outputs": [],
   "source": [
    "#converting into dataframe\n",
    "df_train = pd.read_csv('Data_Train.csv')\n",
    "df_test = pd.read_csv('Test_Set.csv')"
   ]
  },
  {
   "cell_type": "code",
   "execution_count": 125,
   "metadata": {},
   "outputs": [
    {
     "data": {
      "text/plain": [
       "(10683, 11)"
      ]
     },
     "execution_count": 125,
     "metadata": {},
     "output_type": "execute_result"
    }
   ],
   "source": [
    "df_train.shape"
   ]
  },
  {
   "cell_type": "code",
   "execution_count": 126,
   "metadata": {},
   "outputs": [
    {
     "data": {
      "text/plain": [
       "(2671, 10)"
      ]
     },
     "execution_count": 126,
     "metadata": {},
     "output_type": "execute_result"
    }
   ],
   "source": [
    "df_test.shape"
   ]
  },
  {
   "cell_type": "code",
   "execution_count": 127,
   "metadata": {},
   "outputs": [
    {
     "data": {
      "text/html": [
       "<div>\n",
       "<style scoped>\n",
       "    .dataframe tbody tr th:only-of-type {\n",
       "        vertical-align: middle;\n",
       "    }\n",
       "\n",
       "    .dataframe tbody tr th {\n",
       "        vertical-align: top;\n",
       "    }\n",
       "\n",
       "    .dataframe thead th {\n",
       "        text-align: right;\n",
       "    }\n",
       "</style>\n",
       "<table border=\"1\" class=\"dataframe\">\n",
       "  <thead>\n",
       "    <tr style=\"text-align: right;\">\n",
       "      <th></th>\n",
       "      <th>Price</th>\n",
       "    </tr>\n",
       "  </thead>\n",
       "  <tbody>\n",
       "    <tr>\n",
       "      <td>count</td>\n",
       "      <td>10683.000000</td>\n",
       "    </tr>\n",
       "    <tr>\n",
       "      <td>mean</td>\n",
       "      <td>9087.064121</td>\n",
       "    </tr>\n",
       "    <tr>\n",
       "      <td>std</td>\n",
       "      <td>4611.359167</td>\n",
       "    </tr>\n",
       "    <tr>\n",
       "      <td>min</td>\n",
       "      <td>1759.000000</td>\n",
       "    </tr>\n",
       "    <tr>\n",
       "      <td>25%</td>\n",
       "      <td>5277.000000</td>\n",
       "    </tr>\n",
       "    <tr>\n",
       "      <td>50%</td>\n",
       "      <td>8372.000000</td>\n",
       "    </tr>\n",
       "    <tr>\n",
       "      <td>75%</td>\n",
       "      <td>12373.000000</td>\n",
       "    </tr>\n",
       "    <tr>\n",
       "      <td>max</td>\n",
       "      <td>79512.000000</td>\n",
       "    </tr>\n",
       "  </tbody>\n",
       "</table>\n",
       "</div>"
      ],
      "text/plain": [
       "              Price\n",
       "count  10683.000000\n",
       "mean    9087.064121\n",
       "std     4611.359167\n",
       "min     1759.000000\n",
       "25%     5277.000000\n",
       "50%     8372.000000\n",
       "75%    12373.000000\n",
       "max    79512.000000"
      ]
     },
     "execution_count": 127,
     "metadata": {},
     "output_type": "execute_result"
    }
   ],
   "source": [
    "df_train.describe()"
   ]
  },
  {
   "cell_type": "code",
   "execution_count": 128,
   "metadata": {},
   "outputs": [
    {
     "data": {
      "text/html": [
       "<div>\n",
       "<style scoped>\n",
       "    .dataframe tbody tr th:only-of-type {\n",
       "        vertical-align: middle;\n",
       "    }\n",
       "\n",
       "    .dataframe tbody tr th {\n",
       "        vertical-align: top;\n",
       "    }\n",
       "\n",
       "    .dataframe thead th {\n",
       "        text-align: right;\n",
       "    }\n",
       "</style>\n",
       "<table border=\"1\" class=\"dataframe\">\n",
       "  <thead>\n",
       "    <tr style=\"text-align: right;\">\n",
       "      <th></th>\n",
       "      <th>Airline</th>\n",
       "      <th>Date_of_Journey</th>\n",
       "      <th>Source</th>\n",
       "      <th>Destination</th>\n",
       "      <th>Route</th>\n",
       "      <th>Dep_Time</th>\n",
       "      <th>Arrival_Time</th>\n",
       "      <th>Duration</th>\n",
       "      <th>Total_Stops</th>\n",
       "      <th>Additional_Info</th>\n",
       "      <th>Price</th>\n",
       "    </tr>\n",
       "  </thead>\n",
       "  <tbody>\n",
       "    <tr>\n",
       "      <td>0</td>\n",
       "      <td>IndiGo</td>\n",
       "      <td>24/03/2019</td>\n",
       "      <td>Banglore</td>\n",
       "      <td>New Delhi</td>\n",
       "      <td>BLR ? DEL</td>\n",
       "      <td>22:20</td>\n",
       "      <td>01:10 22 Mar</td>\n",
       "      <td>2h 50m</td>\n",
       "      <td>non-stop</td>\n",
       "      <td>No info</td>\n",
       "      <td>3897</td>\n",
       "    </tr>\n",
       "    <tr>\n",
       "      <td>1</td>\n",
       "      <td>Air India</td>\n",
       "      <td>1/05/2019</td>\n",
       "      <td>Kolkata</td>\n",
       "      <td>Banglore</td>\n",
       "      <td>CCU ? IXR ? BBI ? BLR</td>\n",
       "      <td>05:50</td>\n",
       "      <td>13:15</td>\n",
       "      <td>7h 25m</td>\n",
       "      <td>2 stops</td>\n",
       "      <td>No info</td>\n",
       "      <td>7662</td>\n",
       "    </tr>\n",
       "    <tr>\n",
       "      <td>2</td>\n",
       "      <td>Jet Airways</td>\n",
       "      <td>9/06/2019</td>\n",
       "      <td>Delhi</td>\n",
       "      <td>Cochin</td>\n",
       "      <td>DEL ? LKO ? BOM ? COK</td>\n",
       "      <td>09:25</td>\n",
       "      <td>04:25 10 Jun</td>\n",
       "      <td>19h</td>\n",
       "      <td>2 stops</td>\n",
       "      <td>No info</td>\n",
       "      <td>13882</td>\n",
       "    </tr>\n",
       "    <tr>\n",
       "      <td>3</td>\n",
       "      <td>IndiGo</td>\n",
       "      <td>12/05/2019</td>\n",
       "      <td>Kolkata</td>\n",
       "      <td>Banglore</td>\n",
       "      <td>CCU ? NAG ? BLR</td>\n",
       "      <td>18:05</td>\n",
       "      <td>23:30</td>\n",
       "      <td>5h 25m</td>\n",
       "      <td>1 stop</td>\n",
       "      <td>No info</td>\n",
       "      <td>6218</td>\n",
       "    </tr>\n",
       "    <tr>\n",
       "      <td>4</td>\n",
       "      <td>IndiGo</td>\n",
       "      <td>01/03/2019</td>\n",
       "      <td>Banglore</td>\n",
       "      <td>New Delhi</td>\n",
       "      <td>BLR ? NAG ? DEL</td>\n",
       "      <td>16:50</td>\n",
       "      <td>21:35</td>\n",
       "      <td>4h 45m</td>\n",
       "      <td>1 stop</td>\n",
       "      <td>No info</td>\n",
       "      <td>13302</td>\n",
       "    </tr>\n",
       "  </tbody>\n",
       "</table>\n",
       "</div>"
      ],
      "text/plain": [
       "       Airline Date_of_Journey    Source Destination                  Route  \\\n",
       "0       IndiGo      24/03/2019  Banglore   New Delhi              BLR ? DEL   \n",
       "1    Air India       1/05/2019   Kolkata    Banglore  CCU ? IXR ? BBI ? BLR   \n",
       "2  Jet Airways       9/06/2019     Delhi      Cochin  DEL ? LKO ? BOM ? COK   \n",
       "3       IndiGo      12/05/2019   Kolkata    Banglore        CCU ? NAG ? BLR   \n",
       "4       IndiGo      01/03/2019  Banglore   New Delhi        BLR ? NAG ? DEL   \n",
       "\n",
       "  Dep_Time  Arrival_Time Duration Total_Stops Additional_Info  Price  \n",
       "0    22:20  01:10 22 Mar   2h 50m    non-stop         No info   3897  \n",
       "1    05:50         13:15   7h 25m     2 stops         No info   7662  \n",
       "2    09:25  04:25 10 Jun      19h     2 stops         No info  13882  \n",
       "3    18:05         23:30   5h 25m      1 stop         No info   6218  \n",
       "4    16:50         21:35   4h 45m      1 stop         No info  13302  "
      ]
     },
     "execution_count": 128,
     "metadata": {},
     "output_type": "execute_result"
    }
   ],
   "source": [
    "df_train.head()"
   ]
  },
  {
   "cell_type": "code",
   "execution_count": 129,
   "metadata": {},
   "outputs": [
    {
     "data": {
      "text/html": [
       "<div>\n",
       "<style scoped>\n",
       "    .dataframe tbody tr th:only-of-type {\n",
       "        vertical-align: middle;\n",
       "    }\n",
       "\n",
       "    .dataframe tbody tr th {\n",
       "        vertical-align: top;\n",
       "    }\n",
       "\n",
       "    .dataframe thead th {\n",
       "        text-align: right;\n",
       "    }\n",
       "</style>\n",
       "<table border=\"1\" class=\"dataframe\">\n",
       "  <thead>\n",
       "    <tr style=\"text-align: right;\">\n",
       "      <th></th>\n",
       "      <th>Airline</th>\n",
       "      <th>Date_of_Journey</th>\n",
       "      <th>Source</th>\n",
       "      <th>Destination</th>\n",
       "      <th>Route</th>\n",
       "      <th>Dep_Time</th>\n",
       "      <th>Arrival_Time</th>\n",
       "      <th>Duration</th>\n",
       "      <th>Total_Stops</th>\n",
       "      <th>Additional_Info</th>\n",
       "    </tr>\n",
       "  </thead>\n",
       "  <tbody>\n",
       "    <tr>\n",
       "      <td>0</td>\n",
       "      <td>Jet Airways</td>\n",
       "      <td>6/06/2019</td>\n",
       "      <td>Delhi</td>\n",
       "      <td>Cochin</td>\n",
       "      <td>DEL ? BOM ? COK</td>\n",
       "      <td>17:30</td>\n",
       "      <td>04:25 07 Jun</td>\n",
       "      <td>10h 55m</td>\n",
       "      <td>1 stop</td>\n",
       "      <td>No info</td>\n",
       "    </tr>\n",
       "    <tr>\n",
       "      <td>1</td>\n",
       "      <td>IndiGo</td>\n",
       "      <td>12/05/2019</td>\n",
       "      <td>Kolkata</td>\n",
       "      <td>Banglore</td>\n",
       "      <td>CCU ? MAA ? BLR</td>\n",
       "      <td>06:20</td>\n",
       "      <td>10:20</td>\n",
       "      <td>4h</td>\n",
       "      <td>1 stop</td>\n",
       "      <td>No info</td>\n",
       "    </tr>\n",
       "    <tr>\n",
       "      <td>2</td>\n",
       "      <td>Jet Airways</td>\n",
       "      <td>21/05/2019</td>\n",
       "      <td>Delhi</td>\n",
       "      <td>Cochin</td>\n",
       "      <td>DEL ? BOM ? COK</td>\n",
       "      <td>19:15</td>\n",
       "      <td>19:00 22 May</td>\n",
       "      <td>23h 45m</td>\n",
       "      <td>1 stop</td>\n",
       "      <td>In-flight meal not included</td>\n",
       "    </tr>\n",
       "    <tr>\n",
       "      <td>3</td>\n",
       "      <td>Multiple carriers</td>\n",
       "      <td>21/05/2019</td>\n",
       "      <td>Delhi</td>\n",
       "      <td>Cochin</td>\n",
       "      <td>DEL ? BOM ? COK</td>\n",
       "      <td>08:00</td>\n",
       "      <td>21:00</td>\n",
       "      <td>13h</td>\n",
       "      <td>1 stop</td>\n",
       "      <td>No info</td>\n",
       "    </tr>\n",
       "    <tr>\n",
       "      <td>4</td>\n",
       "      <td>Air Asia</td>\n",
       "      <td>24/06/2019</td>\n",
       "      <td>Banglore</td>\n",
       "      <td>Delhi</td>\n",
       "      <td>BLR ? DEL</td>\n",
       "      <td>23:55</td>\n",
       "      <td>02:45 25 Jun</td>\n",
       "      <td>2h 50m</td>\n",
       "      <td>non-stop</td>\n",
       "      <td>No info</td>\n",
       "    </tr>\n",
       "  </tbody>\n",
       "</table>\n",
       "</div>"
      ],
      "text/plain": [
       "             Airline Date_of_Journey    Source Destination            Route  \\\n",
       "0        Jet Airways       6/06/2019     Delhi      Cochin  DEL ? BOM ? COK   \n",
       "1             IndiGo      12/05/2019   Kolkata    Banglore  CCU ? MAA ? BLR   \n",
       "2        Jet Airways      21/05/2019     Delhi      Cochin  DEL ? BOM ? COK   \n",
       "3  Multiple carriers      21/05/2019     Delhi      Cochin  DEL ? BOM ? COK   \n",
       "4           Air Asia      24/06/2019  Banglore       Delhi        BLR ? DEL   \n",
       "\n",
       "  Dep_Time  Arrival_Time Duration Total_Stops              Additional_Info  \n",
       "0    17:30  04:25 07 Jun  10h 55m      1 stop                      No info  \n",
       "1    06:20         10:20       4h      1 stop                      No info  \n",
       "2    19:15  19:00 22 May  23h 45m      1 stop  In-flight meal not included  \n",
       "3    08:00         21:00      13h      1 stop                      No info  \n",
       "4    23:55  02:45 25 Jun   2h 50m    non-stop                      No info  "
      ]
     },
     "execution_count": 129,
     "metadata": {},
     "output_type": "execute_result"
    }
   ],
   "source": [
    "df_test.head()"
   ]
  },
  {
   "cell_type": "code",
   "execution_count": 130,
   "metadata": {},
   "outputs": [
    {
     "data": {
      "text/plain": [
       "No info                         8345\n",
       "In-flight meal not included     1982\n",
       "No check-in baggage included     320\n",
       "1 Long layover                    19\n",
       "Change airports                    7\n",
       "Business class                     4\n",
       "No Info                            3\n",
       "1 Short layover                    1\n",
       "2 Long layover                     1\n",
       "Red-eye flight                     1\n",
       "Name: Additional_Info, dtype: int64"
      ]
     },
     "execution_count": 130,
     "metadata": {},
     "output_type": "execute_result"
    }
   ],
   "source": [
    "df_train['Additional_Info'].value_counts()"
   ]
  },
  {
   "cell_type": "markdown",
   "metadata": {},
   "source": [
    "### Imputing Missing Values with Medians"
   ]
  },
  {
   "cell_type": "code",
   "execution_count": 131,
   "metadata": {},
   "outputs": [
    {
     "data": {
      "text/plain": [
       "Airline            0\n",
       "Date_of_Journey    0\n",
       "Source             0\n",
       "Destination        0\n",
       "Route              1\n",
       "Dep_Time           0\n",
       "Arrival_Time       0\n",
       "Duration           0\n",
       "Total_Stops        1\n",
       "Additional_Info    0\n",
       "Price              0\n",
       "dtype: int64"
      ]
     },
     "execution_count": 131,
     "metadata": {},
     "output_type": "execute_result"
    }
   ],
   "source": [
    "df_train.isnull().sum()"
   ]
  },
  {
   "cell_type": "code",
   "execution_count": 132,
   "metadata": {},
   "outputs": [
    {
     "data": {
      "text/plain": [
       "Airline            object\n",
       "Date_of_Journey    object\n",
       "Source             object\n",
       "Destination        object\n",
       "Route              object\n",
       "Dep_Time           object\n",
       "Arrival_Time       object\n",
       "Duration           object\n",
       "Total_Stops        object\n",
       "Additional_Info    object\n",
       "Price               int64\n",
       "dtype: object"
      ]
     },
     "execution_count": 132,
     "metadata": {},
     "output_type": "execute_result"
    }
   ],
   "source": [
    "df_train.dtypes"
   ]
  },
  {
   "cell_type": "code",
   "execution_count": 133,
   "metadata": {},
   "outputs": [
    {
     "data": {
      "text/plain": [
       "DEL ? BOM ? COK                      2376\n",
       "BLR ? DEL                            1552\n",
       "CCU ? BOM ? BLR                       979\n",
       "CCU ? BLR                             724\n",
       "BOM ? HYD                             621\n",
       "                                     ... \n",
       "BOM ? GOI ? HYD                         1\n",
       "BLR ? HBX ? BOM ? AMD ? DEL             1\n",
       "BOM ? JAI ? DEL ? HYD                   1\n",
       "BLR ? CCU ? BBI ? HYD ? VGA ? DEL       1\n",
       "BOM ? RPR ? VTZ ? HYD                   1\n",
       "Name: Route, Length: 128, dtype: int64"
      ]
     },
     "execution_count": 133,
     "metadata": {},
     "output_type": "execute_result"
    }
   ],
   "source": [
    "df_train['Route'].value_counts()"
   ]
  },
  {
   "cell_type": "code",
   "execution_count": 134,
   "metadata": {},
   "outputs": [],
   "source": [
    "df_train=df_train.dropna(how='any',axis=0) "
   ]
  },
  {
   "cell_type": "code",
   "execution_count": 135,
   "metadata": {},
   "outputs": [
    {
     "data": {
      "text/plain": [
       "(10682, 11)"
      ]
     },
     "execution_count": 135,
     "metadata": {},
     "output_type": "execute_result"
    }
   ],
   "source": [
    "df_train.shape"
   ]
  },
  {
   "cell_type": "markdown",
   "metadata": {},
   "source": [
    "# 3. Exploratory Data Analysis Data Visualization"
   ]
  },
  {
   "cell_type": "code",
   "execution_count": 40,
   "metadata": {},
   "outputs": [
    {
     "data": {
      "text/plain": [
       "[Text(0, 0, 'IndiGo'),\n",
       " Text(0, 0, 'Air India'),\n",
       " Text(0, 0, 'Jet Airways'),\n",
       " Text(0, 0, 'SpiceJet'),\n",
       " Text(0, 0, 'Multiple carriers'),\n",
       " Text(0, 0, 'GoAir'),\n",
       " Text(0, 0, 'Vistara'),\n",
       " Text(0, 0, 'Air Asia'),\n",
       " Text(0, 0, 'Vistara Premium economy'),\n",
       " Text(0, 0, 'Jet Airways Business'),\n",
       " Text(0, 0, 'Multiple carriers Premium economy'),\n",
       " Text(0, 0, 'Trujet')]"
      ]
     },
     "execution_count": 40,
     "metadata": {},
     "output_type": "execute_result"
    },
    {
     "data": {
      "image/png": "[encoded data removed]",
      "text/plain": [
       "<Figure size 720x360 with 1 Axes>"
      ]
     },
     "metadata": {},
     "output_type": "display_data"
    }
   ],
   "source": [
    "plt.figure(figsize=(10,5))\n",
    "chart = sns.countplot(\n",
    "    data=df_train,\n",
    "    x='Airline',\n",
    "    palette='Set1'\n",
    ")\n",
    "chart.set_xticklabels(chart.get_xticklabels(), rotation=45)"
   ]
  },
  {
   "cell_type": "code",
   "execution_count": 41,
   "metadata": {},
   "outputs": [
    {
     "data": {
      "image/png": "[encoded data removed]",
      "text/plain": [
       "<Figure size 432x288 with 1 Axes>"
      ]
     },
     "metadata": {},
     "output_type": "display_data"
    }
   ],
   "source": [
    "sns.set(style=\"darkgrid\")\n",
    "ax = sns.countplot(x=\"Source\", data=df_train)"
   ]
  },
  {
   "cell_type": "code",
   "execution_count": 42,
   "metadata": {},
   "outputs": [
    {
     "data": {
      "image/png": "[encoded data removed]",
      "text/plain": [
       "<Figure size 432x288 with 1 Axes>"
      ]
     },
     "metadata": {},
     "output_type": "display_data"
    }
   ],
   "source": [
    "sns.set(style=\"darkgrid\")\n",
    "ax = sns.countplot(x=\"Destination\", data=df_train)"
   ]
  },
  {
   "cell_type": "code",
   "execution_count": 43,
   "metadata": {},
   "outputs": [
    {
     "data": {
      "image/png": "[encoded data removed]",
      "text/plain": [
       "<Figure size 432x288 with 1 Axes>"
      ]
     },
     "metadata": {},
     "output_type": "display_data"
    }
   ],
   "source": [
    "sns.set(style=\"darkgrid\")\n",
    "ax = sns.countplot(x=\"Total_Stops\", data=df_train)"
   ]
  },
  {
   "cell_type": "code",
   "execution_count": 44,
   "metadata": {},
   "outputs": [
    {
     "data": {
      "text/plain": [
       "[Text(0, 0, 'No info'),\n",
       " Text(0, 0, 'In-flight meal not included'),\n",
       " Text(0, 0, 'No check-in baggage included'),\n",
       " Text(0, 0, '1 Short layover'),\n",
       " Text(0, 0, 'No Info'),\n",
       " Text(0, 0, '1 Long layover'),\n",
       " Text(0, 0, 'Change airports'),\n",
       " Text(0, 0, 'Business class'),\n",
       " Text(0, 0, 'Red-eye flight'),\n",
       " Text(0, 0, '2 Long layover')]"
      ]
     },
     "execution_count": 44,
     "metadata": {},
     "output_type": "execute_result"
    },
    {
     "data": {
      "image/png": "[encoded data removed]",
      "text/plain": [
       "<Figure size 720x360 with 1 Axes>"
      ]
     },
     "metadata": {},
     "output_type": "display_data"
    }
   ],
   "source": [
    "plt.figure(figsize=(10,5))\n",
    "chart = sns.countplot(\n",
    "    data=df_train,\n",
    "    x='Additional_Info',\n",
    "    palette='Set1'\n",
    ")\n",
    "chart.set_xticklabels(chart.get_xticklabels(), rotation=45)"
   ]
  },
  {
   "cell_type": "markdown",
   "metadata": {},
   "source": [
    "# 4. Data pre-processing and cleaning"
   ]
  },
  {
   "cell_type": "markdown",
   "metadata": {},
   "source": [
    "## A. Cleaning data Manually"
   ]
  },
  {
   "cell_type": "markdown",
   "metadata": {},
   "source": [
    "#### Other way to remove outliers is zscore but it needs all fetures to be numerical"
   ]
  },
  {
   "cell_type": "markdown",
   "metadata": {},
   "source": [
    "## B.Converting all features to numerical features "
   ]
  },
  {
   "cell_type": "code",
   "execution_count": 136,
   "metadata": {},
   "outputs": [
    {
     "data": {
      "text/plain": [
       "Index(['Airline', 'Date_of_Journey', 'Source', 'Destination', 'Route',\n",
       "       'Dep_Time', 'Arrival_Time', 'Duration', 'Total_Stops',\n",
       "       'Additional_Info', 'Price'],\n",
       "      dtype='object')"
      ]
     },
     "execution_count": 136,
     "metadata": {},
     "output_type": "execute_result"
    }
   ],
   "source": [
    "df_train.columns"
   ]
  },
  {
   "cell_type": "markdown",
   "metadata": {},
   "source": [
    "#### First we need to convert the string values to int so that we can apply the distance based models like KNN "
   ]
  },
  {
   "cell_type": "code",
   "execution_count": 137,
   "metadata": {},
   "outputs": [],
   "source": [
    "from sklearn import preprocessing\n",
    "label_encoder = preprocessing.LabelEncoder()\n",
    "df_train['Airline']= label_encoder.fit_transform(df_train['Airline']) \n",
    "df_train['Date_of_Journey']= label_encoder.fit_transform(df_train['Date_of_Journey'])  \n",
    "df_train['Source']= label_encoder.fit_transform(df_train['Source']) \n",
    "df_train['Destination']= label_encoder.fit_transform(df_train['Destination']) \n",
    "df_train['Route']= label_encoder.fit_transform(df_train['Route']) \n",
    "df_train['Dep_Time']= label_encoder.fit_transform(df_train['Dep_Time']) \n",
    "df_train['Arrival_Time']= label_encoder.fit_transform(df_train['Arrival_Time']) \n",
    "df_train['Duration']= label_encoder.fit_transform(df_train['Duration']) \n",
    "df_train['Total_Stops']= label_encoder.fit_transform(df_train['Total_Stops']) \n",
    "df_train['Additional_Info']= label_encoder.fit_transform(df_train['Additional_Info']) "
   ]
  },
  {
   "cell_type": "code",
   "execution_count": 138,
   "metadata": {},
   "outputs": [],
   "source": [
    "from sklearn import preprocessing\n",
    "label_encoder = preprocessing.LabelEncoder()\n",
    "df_test['Airline']= label_encoder.fit_transform(df_test['Airline']) \n",
    "df_test['Date_of_Journey']= label_encoder.fit_transform(df_test['Date_of_Journey'])  \n",
    "df_test['Source']= label_encoder.fit_transform(df_test['Source']) \n",
    "df_test['Destination']= label_encoder.fit_transform(df_test['Destination']) \n",
    "df_test['Route']= label_encoder.fit_transform(df_test['Route']) \n",
    "df_test['Dep_Time']= label_encoder.fit_transform(df_test['Dep_Time']) \n",
    "df_test['Arrival_Time']= label_encoder.fit_transform(df_test['Arrival_Time']) \n",
    "df_test['Duration']= label_encoder.fit_transform(df_test['Duration']) \n",
    "df_test['Total_Stops']= label_encoder.fit_transform(df_test['Total_Stops']) \n",
    "df_test['Additional_Info']= label_encoder.fit_transform(df_test['Additional_Info'])"
   ]
  },
  {
   "cell_type": "markdown",
   "metadata": {},
   "source": [
    "## C.Removing Unwanted columns"
   ]
  },
  {
   "cell_type": "markdown",
   "metadata": {},
   "source": [
    "## D.Removing outliers using standard methods"
   ]
  },
  {
   "cell_type": "code",
   "execution_count": 139,
   "metadata": {},
   "outputs": [
    {
     "name": "stdout",
     "output_type": "stream",
     "text": [
      "(array([  123,   396,   486,   510,   597,   628,   657,   785,   785,\n",
      "         826,   936,   946,   959,   975,  1043,  1196,  1246,  1341,\n",
      "        1424,  1466,  1478,  1629,  1654,  1785,  1918,  2055,  2079,\n",
      "        2099,  2108,  2405,  2481,  2495,  2495,  2556,  2556,  2618,\n",
      "        2635,  2693,  2924,  2924,  3032,  3032,  3111,  3111,  3257,\n",
      "        3400,  3535,  3700,  3700,  3788,  4012,  4521,  4521,  4676,\n",
      "        4829,  5013,  5013,  5136,  5372,  5372,  5439,  5628,  5662,\n",
      "        5701,  5710,  5719,  5738,  5745,  5856,  5986,  6024,  6314,\n",
      "        6336,  6407,  6576,  6576,  6588,  6605,  6991,  7351,  7356,\n",
      "        7377,  7537,  7554,  7617,  7713,  7724,  7724,  7756,  7902,\n",
      "        8020,  8080,  8451,  8470,  8536,  8598,  8856,  8940,  8957,\n",
      "        8957,  8990,  9019,  9019,  9192,  9238,  9631,  9656,  9714,\n",
      "        9973, 10051, 10112, 10159, 10181, 10188, 10352, 10363, 10363,\n",
      "       10382, 10438, 10510, 10510], dtype=int64), array([10, 10, 10, 10, 10, 10, 10,  9, 10, 10, 10, 10, 10, 10,  9, 10, 10,\n",
      "       10, 10, 10, 10, 10, 10, 10, 10, 10,  9, 10, 10,  9,  9,  9, 10,  9,\n",
      "       10, 10, 10, 10,  9, 10,  9, 10,  9, 10, 10, 10, 10,  9, 10,  9, 10,\n",
      "        9, 10, 10, 10,  9, 10, 10,  9, 10, 10,  9, 10, 10, 10, 10, 10, 10,\n",
      "       10, 10,  9, 10,  9, 10,  9, 10, 10, 10, 10, 10, 10, 10, 10, 10, 10,\n",
      "       10,  9, 10, 10, 10, 10, 10, 10, 10, 10, 10, 10, 10,  9, 10, 10,  9,\n",
      "       10, 10, 10, 10,  9, 10, 10, 10, 10, 10, 10, 10, 10,  9, 10, 10, 10,\n",
      "        9, 10], dtype=int64))\n"
     ]
    }
   ],
   "source": [
    "# If data has outliers then we can remove them by using zscore<br>\n",
    "from scipy import stats\n",
    "z=abs(stats.zscore(df_train))\n",
    "print(np.where(z>3))\n",
    "df_train=df_train[(z<3).all(axis=1)]"
   ]
  },
  {
   "cell_type": "markdown",
   "metadata": {},
   "source": [
    "### E .Train_test Split"
   ]
  },
  {
   "cell_type": "code",
   "execution_count": 120,
   "metadata": {},
   "outputs": [],
   "source": [
    "from sklearn.preprocessing import Normalizer\n",
    "feature_scaler = Normalizer()\n",
    "df_train = feature_scaler.fit_transform(df_train)"
   ]
  },
  {
   "cell_type": "code",
   "execution_count": 121,
   "metadata": {},
   "outputs": [],
   "source": [
    "from sklearn.preprocessing import StandardScaler\n",
    "feature_scaler = StandardScaler()\n",
    "df_train = feature_scaler.fit_transform(df_train)"
   ]
  },
  {
   "cell_type": "code",
   "execution_count": 140,
   "metadata": {},
   "outputs": [],
   "source": [
    "y=df_train['Price']\n",
    "x=df_train.drop(['Price'],axis=1)"
   ]
  },
  {
   "cell_type": "code",
   "execution_count": 103,
   "metadata": {},
   "outputs": [
    {
     "data": {
      "text/plain": [
       "0         3897\n",
       "1         7662\n",
       "2        13882\n",
       "3         6218\n",
       "4        13302\n",
       "         ...  \n",
       "10678     4107\n",
       "10679     4145\n",
       "10680     7229\n",
       "10681    12648\n",
       "10682    11753\n",
       "Name: Price, Length: 10577, dtype: int64"
      ]
     },
     "execution_count": 103,
     "metadata": {},
     "output_type": "execute_result"
    }
   ],
   "source": [
    "y"
   ]
  },
  {
   "cell_type": "code",
   "execution_count": 141,
   "metadata": {},
   "outputs": [],
   "source": [
    "X_train, X_cv, y_train, y_cv = train_test_split(x, y, test_size=0.33, random_state=42)"
   ]
  },
  {
   "cell_type": "code",
   "execution_count": 142,
   "metadata": {},
   "outputs": [],
   "source": [
    "X_test=df_test"
   ]
  },
  {
   "cell_type": "code",
   "execution_count": 143,
   "metadata": {},
   "outputs": [
    {
     "data": {
      "text/html": [
       "<div>\n",
       "<style scoped>\n",
       "    .dataframe tbody tr th:only-of-type {\n",
       "        vertical-align: middle;\n",
       "    }\n",
       "\n",
       "    .dataframe tbody tr th {\n",
       "        vertical-align: top;\n",
       "    }\n",
       "\n",
       "    .dataframe thead th {\n",
       "        text-align: right;\n",
       "    }\n",
       "</style>\n",
       "<table border=\"1\" class=\"dataframe\">\n",
       "  <thead>\n",
       "    <tr style=\"text-align: right;\">\n",
       "      <th></th>\n",
       "      <th>Airline</th>\n",
       "      <th>Date_of_Journey</th>\n",
       "      <th>Source</th>\n",
       "      <th>Destination</th>\n",
       "      <th>Route</th>\n",
       "      <th>Dep_Time</th>\n",
       "      <th>Arrival_Time</th>\n",
       "      <th>Duration</th>\n",
       "      <th>Total_Stops</th>\n",
       "      <th>Additional_Info</th>\n",
       "    </tr>\n",
       "  </thead>\n",
       "  <tbody>\n",
       "    <tr>\n",
       "      <td>1300</td>\n",
       "      <td>6</td>\n",
       "      <td>7</td>\n",
       "      <td>2</td>\n",
       "      <td>1</td>\n",
       "      <td>104</td>\n",
       "      <td>66</td>\n",
       "      <td>1217</td>\n",
       "      <td>24</td>\n",
       "      <td>0</td>\n",
       "      <td>8</td>\n",
       "    </tr>\n",
       "    <tr>\n",
       "      <td>7066</td>\n",
       "      <td>3</td>\n",
       "      <td>17</td>\n",
       "      <td>0</td>\n",
       "      <td>2</td>\n",
       "      <td>18</td>\n",
       "      <td>107</td>\n",
       "      <td>982</td>\n",
       "      <td>240</td>\n",
       "      <td>4</td>\n",
       "      <td>8</td>\n",
       "    </tr>\n",
       "    <tr>\n",
       "      <td>9281</td>\n",
       "      <td>4</td>\n",
       "      <td>33</td>\n",
       "      <td>4</td>\n",
       "      <td>3</td>\n",
       "      <td>48</td>\n",
       "      <td>12</td>\n",
       "      <td>399</td>\n",
       "      <td>120</td>\n",
       "      <td>4</td>\n",
       "      <td>5</td>\n",
       "    </tr>\n",
       "    <tr>\n",
       "      <td>5383</td>\n",
       "      <td>2</td>\n",
       "      <td>29</td>\n",
       "      <td>2</td>\n",
       "      <td>1</td>\n",
       "      <td>98</td>\n",
       "      <td>50</td>\n",
       "      <td>921</td>\n",
       "      <td>321</td>\n",
       "      <td>0</td>\n",
       "      <td>8</td>\n",
       "    </tr>\n",
       "    <tr>\n",
       "      <td>1410</td>\n",
       "      <td>3</td>\n",
       "      <td>26</td>\n",
       "      <td>3</td>\n",
       "      <td>0</td>\n",
       "      <td>64</td>\n",
       "      <td>123</td>\n",
       "      <td>1014</td>\n",
       "      <td>236</td>\n",
       "      <td>4</td>\n",
       "      <td>8</td>\n",
       "    </tr>\n",
       "    <tr>\n",
       "      <td>...</td>\n",
       "      <td>...</td>\n",
       "      <td>...</td>\n",
       "      <td>...</td>\n",
       "      <td>...</td>\n",
       "      <td>...</td>\n",
       "      <td>...</td>\n",
       "      <td>...</td>\n",
       "      <td>...</td>\n",
       "      <td>...</td>\n",
       "      <td>...</td>\n",
       "    </tr>\n",
       "    <tr>\n",
       "      <td>2290</td>\n",
       "      <td>6</td>\n",
       "      <td>14</td>\n",
       "      <td>2</td>\n",
       "      <td>1</td>\n",
       "      <td>111</td>\n",
       "      <td>128</td>\n",
       "      <td>1260</td>\n",
       "      <td>338</td>\n",
       "      <td>0</td>\n",
       "      <td>8</td>\n",
       "    </tr>\n",
       "    <tr>\n",
       "      <td>2274</td>\n",
       "      <td>1</td>\n",
       "      <td>24</td>\n",
       "      <td>3</td>\n",
       "      <td>0</td>\n",
       "      <td>73</td>\n",
       "      <td>190</td>\n",
       "      <td>628</td>\n",
       "      <td>28</td>\n",
       "      <td>0</td>\n",
       "      <td>8</td>\n",
       "    </tr>\n",
       "    <tr>\n",
       "      <td>844</td>\n",
       "      <td>1</td>\n",
       "      <td>26</td>\n",
       "      <td>4</td>\n",
       "      <td>3</td>\n",
       "      <td>48</td>\n",
       "      <td>178</td>\n",
       "      <td>1206</td>\n",
       "      <td>118</td>\n",
       "      <td>4</td>\n",
       "      <td>8</td>\n",
       "    </tr>\n",
       "    <tr>\n",
       "      <td>8959</td>\n",
       "      <td>8</td>\n",
       "      <td>20</td>\n",
       "      <td>3</td>\n",
       "      <td>0</td>\n",
       "      <td>64</td>\n",
       "      <td>154</td>\n",
       "      <td>1155</td>\n",
       "      <td>236</td>\n",
       "      <td>4</td>\n",
       "      <td>8</td>\n",
       "    </tr>\n",
       "    <tr>\n",
       "      <td>4321</td>\n",
       "      <td>4</td>\n",
       "      <td>24</td>\n",
       "      <td>3</td>\n",
       "      <td>0</td>\n",
       "      <td>66</td>\n",
       "      <td>59</td>\n",
       "      <td>462</td>\n",
       "      <td>126</td>\n",
       "      <td>0</td>\n",
       "      <td>8</td>\n",
       "    </tr>\n",
       "  </tbody>\n",
       "</table>\n",
       "<p>3491 rows × 10 columns</p>\n",
       "</div>"
      ],
      "text/plain": [
       "      Airline  Date_of_Journey  Source  Destination  Route  Dep_Time  \\\n",
       "1300        6                7       2            1    104        66   \n",
       "7066        3               17       0            2     18       107   \n",
       "9281        4               33       4            3     48        12   \n",
       "5383        2               29       2            1     98        50   \n",
       "1410        3               26       3            0     64       123   \n",
       "...       ...              ...     ...          ...    ...       ...   \n",
       "2290        6               14       2            1    111       128   \n",
       "2274        1               24       3            0     73       190   \n",
       "844         1               26       4            3     48       178   \n",
       "8959        8               20       3            0     64       154   \n",
       "4321        4               24       3            0     66        59   \n",
       "\n",
       "      Arrival_Time  Duration  Total_Stops  Additional_Info  \n",
       "1300          1217        24            0                8  \n",
       "7066           982       240            4                8  \n",
       "9281           399       120            4                5  \n",
       "5383           921       321            0                8  \n",
       "1410          1014       236            4                8  \n",
       "...            ...       ...          ...              ...  \n",
       "2290          1260       338            0                8  \n",
       "2274           628        28            0                8  \n",
       "844           1206       118            4                8  \n",
       "8959          1155       236            4                8  \n",
       "4321           462       126            0                8  \n",
       "\n",
       "[3491 rows x 10 columns]"
      ]
     },
     "execution_count": 143,
     "metadata": {},
     "output_type": "execute_result"
    }
   ],
   "source": [
    "round(X_train, 2)\n",
    "round(X_cv, 2)"
   ]
  },
  {
   "cell_type": "code",
   "execution_count": 144,
   "metadata": {},
   "outputs": [],
   "source": [
    "from sklearn.preprocessing import Normalizer\n",
    "feature_scaler = Normalizer()\n",
    "X_train = feature_scaler.fit_transform(X_train)\n",
    "X_cv = feature_scaler.transform(X_cv)"
   ]
  },
  {
   "cell_type": "code",
   "execution_count": 145,
   "metadata": {},
   "outputs": [
    {
     "data": {
      "text/plain": [
       "(3491, 10)"
      ]
     },
     "execution_count": 145,
     "metadata": {},
     "output_type": "execute_result"
    }
   ],
   "source": [
    "X_cv.shape"
   ]
  },
  {
   "cell_type": "code",
   "execution_count": 157,
   "metadata": {},
   "outputs": [],
   "source": [
    "from sklearn.preprocessing import Normalizer\n",
    "feature_scaler = Normalizer()\n",
    "X_test = feature_scaler.fit_transform(X_test)\n"
   ]
  },
  {
   "cell_type": "code",
   "execution_count": null,
   "metadata": {},
   "outputs": [],
   "source": []
  },
  {
   "cell_type": "markdown",
   "metadata": {},
   "source": [
    "# 5. Building Models"
   ]
  },
  {
   "cell_type": "markdown",
   "metadata": {},
   "source": [
    "# Model1 : KNN"
   ]
  },
  {
   "cell_type": "code",
   "execution_count": 146,
   "metadata": {},
   "outputs": [
    {
     "data": {
      "text/plain": [
       "GridSearchCV(cv=5, error_score='raise-deprecating',\n",
       "             estimator=KNeighborsRegressor(algorithm='auto', leaf_size=30,\n",
       "                                           metric='minkowski',\n",
       "                                           metric_params=None, n_jobs=None,\n",
       "                                           n_neighbors=5, p=2,\n",
       "                                           weights='uniform'),\n",
       "             iid='warn', n_jobs=None,\n",
       "             param_grid={'n_neighbors': range(1, 100, 10)},\n",
       "             pre_dispatch='2*n_jobs', refit=True, return_train_score=False,\n",
       "             scoring=None, verbose=0)"
      ]
     },
     "execution_count": 146,
     "metadata": {},
     "output_type": "execute_result"
    }
   ],
   "source": [
    "from sklearn.model_selection import GridSearchCV\n",
    "from sklearn.neighbors import KNeighborsRegressor\n",
    "neigh = KNeighborsRegressor()\n",
    "\n",
    "parameters = {'n_neighbors': range(1,100,10)}\n",
    "\n",
    "clf = GridSearchCV(neigh, parameters, cv= 5)\n",
    "\n",
    "clf.fit(X_train, y_train)\n",
    "\n"
   ]
  },
  {
   "cell_type": "code",
   "execution_count": 147,
   "metadata": {},
   "outputs": [
    {
     "data": {
      "text/plain": [
       "{'n_neighbors': 11}"
      ]
     },
     "execution_count": 147,
     "metadata": {},
     "output_type": "execute_result"
    }
   ],
   "source": [
    "clf.best_params_"
   ]
  },
  {
   "cell_type": "code",
   "execution_count": 148,
   "metadata": {},
   "outputs": [
    {
     "name": "stdout",
     "output_type": "stream",
     "text": [
      "0.609392874508061\n"
     ]
    }
   ],
   "source": [
    "#KNN classifier sklearn : https://scikit-learn.org/stable/modules/generated/sklearn.neighbors.KNeighborsClassifier.html\n",
    "from sklearn.neighbors import KNeighborsRegressor\n",
    "from sklearn.metrics import r2_score\n",
    "\n",
    "neigh = KNeighborsRegressor(n_neighbors=11)\n",
    "neigh.fit(X_train, y_train)\n",
    "\n",
    "y_cv_pred = neigh.predict(X_cv)\n",
    "print(r2_score(y_cv,y_cv_pred))\n"
   ]
  },
  {
   "cell_type": "code",
   "execution_count": 158,
   "metadata": {},
   "outputs": [],
   "source": [
    "y_test_pred = neigh.predict(X_test)"
   ]
  },
  {
   "cell_type": "code",
   "execution_count": 161,
   "metadata": {},
   "outputs": [
    {
     "data": {
      "text/plain": [
       "array([ 9378.54545455,  6798.63636364, 12603.        , ...,\n",
       "        3921.45454545, 11337.90909091, 11754.72727273])"
      ]
     },
     "execution_count": 161,
     "metadata": {},
     "output_type": "execute_result"
    }
   ],
   "source": [
    "y_test_pred"
   ]
  },
  {
   "cell_type": "code",
   "execution_count": 160,
   "metadata": {},
   "outputs": [
    {
     "data": {
      "text/plain": [
       "9290.90909090909"
      ]
     },
     "execution_count": 160,
     "metadata": {},
     "output_type": "execute_result"
    }
   ],
   "source": [
    "np.median(y_test_pred)"
   ]
  },
  {
   "cell_type": "markdown",
   "metadata": {},
   "source": [
    "Average predicted flight price 9290."
   ]
  },
  {
   "cell_type": "markdown",
   "metadata": {},
   "source": [
    "# Model 3 : Linear regression "
   ]
  },
  {
   "cell_type": "code",
   "execution_count": 50,
   "metadata": {},
   "outputs": [
    {
     "name": "stdout",
     "output_type": "stream",
     "text": [
      "0.3594188190968016\n"
     ]
    }
   ],
   "source": [
    "from sklearn.linear_model import LinearRegression\n",
    "Lr = LinearRegression()\n",
    "Lr.fit(X_train, y_train)\n",
    "\n",
    "y_cv_pred = Lr.predict(X_cv)\n",
    "\n",
    "print(r2_score(y_cv,y_cv_pred))"
   ]
  },
  {
   "cell_type": "code",
   "execution_count": 162,
   "metadata": {},
   "outputs": [],
   "source": [
    "y_test_pred = Lr.predict(X_test)"
   ]
  },
  {
   "cell_type": "code",
   "execution_count": 163,
   "metadata": {},
   "outputs": [
    {
     "data": {
      "text/plain": [
       "array([14462.23713753, 10355.55584762,  9821.25072297, ...,\n",
       "       12292.41081024, 10650.79631801, 10539.59549315])"
      ]
     },
     "execution_count": 163,
     "metadata": {},
     "output_type": "execute_result"
    }
   ],
   "source": [
    "y_test_pred"
   ]
  },
  {
   "cell_type": "markdown",
   "metadata": {},
   "source": [
    "# Model 4 : SVM"
   ]
  },
  {
   "cell_type": "code",
   "execution_count": 52,
   "metadata": {},
   "outputs": [
    {
     "name": "stdout",
     "output_type": "stream",
     "text": [
      "SVR(C=1000, cache_size=200, coef0=0.0, degree=3, epsilon=0.1, gamma=1,\n",
      "    kernel='rbf', max_iter=-1, shrinking=True, tol=0.001, verbose=False)\n",
      "0.10081105710858873\n"
     ]
    }
   ],
   "source": [
    "from sklearn.svm import SVR\n",
    "\n",
    "parameters = [{'C': [0.1, 1, 10, 100, 1000],  \n",
    "              'gamma': [1, 0.1, 0.01, 0.001, 0.0001], \n",
    "              'kernel': ['rbf']}]   #'poly','sigmoid' takes too much time\n",
    "\n",
    "model = GridSearchCV(SVR(),parameters, cv=5)\n",
    "model.fit(X_train, y_train)    \n",
    "\n",
    "print(model.best_estimator_)\n",
    "print(model.score(X_train, y_train))"
   ]
  },
  {
   "cell_type": "code",
   "execution_count": 53,
   "metadata": {},
   "outputs": [
    {
     "data": {
      "text/plain": [
       "{'C': 1000, 'gamma': 1, 'kernel': 'rbf'}"
      ]
     },
     "execution_count": 53,
     "metadata": {},
     "output_type": "execute_result"
    }
   ],
   "source": [
    "model.best_params_"
   ]
  },
  {
   "cell_type": "code",
   "execution_count": 64,
   "metadata": {},
   "outputs": [
    {
     "name": "stderr",
     "output_type": "stream",
     "text": [
      "100%|██████████| 5/5 [02:02<00:00, 24.43s/it]\n"
     ]
    },
    {
     "name": "stdout",
     "output_type": "stream",
     "text": [
      "[-0.020510679662125497, -0.020446511974758174, -0.015505382366291509, 0.079773651314705, 0.1524508933173802]\n"
     ]
    }
   ],
   "source": [
    "from tqdm import tqdm\n",
    "from sklearn.model_selection import cross_val_score\n",
    "\n",
    "C= [10**-4, 10**-2, 10**0, 10**2, 10**4]\n",
    "k_scores = []\n",
    "\n",
    "for k in tqdm(C):\n",
    "    #\n",
    "    svm = SVR(C=k,gamma= 1,kernel='rbf')\n",
    "    \n",
    "    scores = cross_val_score(svm,X_train, y_train, cv=10)\n",
    "    \n",
    "    k_scores.append(scores.mean())\n",
    "print(k_scores)"
   ]
  },
  {
   "cell_type": "code",
   "execution_count": 66,
   "metadata": {},
   "outputs": [],
   "source": [
    "import math as mt\n",
    "log_C=[]\n",
    "for i in C:\n",
    "     log_C.append(mt.log10(i))"
   ]
  },
  {
   "cell_type": "code",
   "execution_count": 67,
   "metadata": {},
   "outputs": [
    {
     "data": {
      "text/plain": [
       "Text(0, 0.5, 'Cross-Validated Accuracy')"
      ]
     },
     "execution_count": 67,
     "metadata": {},
     "output_type": "execute_result"
    },
    {
     "data": {
      "image/png": "[encoded data removed]",
      "text/plain": [
       "<Figure size 432x288 with 1 Axes>"
      ]
     },
     "metadata": {
      "needs_background": "light"
     },
     "output_type": "display_data"
    }
   ],
   "source": [
    "# plot the value of K for KNN (x-axis) versus the cross-validated accuracy (y-axis)\n",
    "plt.plot(log_C, k_scores)\n",
    "plt.xlabel('Value of C for SVM')\n",
    "plt.ylabel('Cross-Validated Accuracy')"
   ]
  },
  {
   "cell_type": "code",
   "execution_count": 54,
   "metadata": {
    "scrolled": false
   },
   "outputs": [
    {
     "name": "stdout",
     "output_type": "stream",
     "text": [
      "0.09992790162577614\n"
     ]
    }
   ],
   "source": [
    "from sklearn.svm import SVR\n",
    "\n",
    "clf = SVR(C=1000,gamma=1,kernel= 'rbf')\n",
    "\n",
    "clf.fit(X_train, y_train)\n",
    "\n",
    "y_cv_pred = clf.predict(X_cv)\n",
    "\n",
    "print(r2_score(y_cv,y_cv_pred))"
   ]
  },
  {
   "cell_type": "code",
   "execution_count": 164,
   "metadata": {},
   "outputs": [
    {
     "data": {
      "text/plain": [
       "array([ 9378.54545455,  6798.63636364, 12603.        , ...,\n",
       "        3921.45454545, 11337.90909091, 11754.72727273])"
      ]
     },
     "execution_count": 164,
     "metadata": {},
     "output_type": "execute_result"
    }
   ],
   "source": [
    "y_test_pred = clf.predict(X_test)\n",
    "y_test_pred"
   ]
  },
  {
   "cell_type": "markdown",
   "metadata": {},
   "source": [
    "# Model 5 : Decision Tree"
   ]
  },
  {
   "cell_type": "code",
   "execution_count": 55,
   "metadata": {},
   "outputs": [
    {
     "name": "stdout",
     "output_type": "stream",
     "text": [
      "DecisionTreeRegressor(criterion='mse', max_depth=10, max_features=None,\n",
      "                      max_leaf_nodes=None, min_impurity_decrease=0.0,\n",
      "                      min_impurity_split=None, min_samples_leaf=1,\n",
      "                      min_samples_split=2, min_weight_fraction_leaf=0.0,\n",
      "                      presort=False, random_state=None, splitter='best')\n",
      "0.8355410047468939\n"
     ]
    }
   ],
   "source": [
    "#https://scikit-learn.org/stable/modules/generated/sklearn.ensemble.RandomForestClassifier.html\n",
    "from sklearn.model_selection import GridSearchCV\n",
    "from sklearn.tree import DecisionTreeRegressor\n",
    "\n",
    "\n",
    "parameters = {'max_depth': [5, 10, 50, 100]}\n",
    "\n",
    "clf = DecisionTreeRegressor(criterion='mse')\n",
    "\n",
    "model = GridSearchCV(clf,parameters,cv=3)\n",
    "\n",
    "model.fit(X_train, y_train)    \n",
    "\n",
    "print(model.best_estimator_)\n",
    "print(model.score(X_train, y_train))\n"
   ]
  },
  {
   "cell_type": "code",
   "execution_count": 56,
   "metadata": {},
   "outputs": [
    {
     "data": {
      "text/plain": [
       "{'max_depth': 10}"
      ]
     },
     "execution_count": 56,
     "metadata": {},
     "output_type": "execute_result"
    }
   ],
   "source": [
    "model.best_params_"
   ]
  },
  {
   "cell_type": "code",
   "execution_count": 114,
   "metadata": {},
   "outputs": [
    {
     "name": "stdout",
     "output_type": "stream",
     "text": [
      "[0.4274448264037634, 0.5846090987461676, 0.7218719826038575, 0.7229003344077832, 0.7229511732681729]\n"
     ]
    }
   ],
   "source": [
    "from sklearn.model_selection import cross_val_score\n",
    "\n",
    "max_depth= [1,5,15,25,50]\n",
    "k_scores = []\n",
    "\n",
    "for k in max_depth:\n",
    "    #\n",
    "    DT = DecisionTreeRegressor(max_depth=k,criterion='mse', min_samples_split=100)\n",
    "    \n",
    "    scores = cross_val_score(DT,X_train, y_train, cv=10)\n",
    "    \n",
    "    k_scores.append(scores.mean())\n",
    "print(k_scores)"
   ]
  },
  {
   "cell_type": "code",
   "execution_count": 115,
   "metadata": {
    "scrolled": true
   },
   "outputs": [
    {
     "data": {
      "text/plain": [
       "Text(0, 0.5, 'Cross-Validated Accuracy')"
      ]
     },
     "execution_count": 115,
     "metadata": {},
     "output_type": "execute_result"
    },
    {
     "data": {
      "image/png": "[encoded data removed]",
      "text/plain": [
       "<Figure size 432x288 with 1 Axes>"
      ]
     },
     "metadata": {},
     "output_type": "display_data"
    }
   ],
   "source": [
    "# plot the value of K for KNN (x-axis) versus the cross-validated accuracy (y-axis)\n",
    "plt.plot(max_depth, k_scores)\n",
    "plt.xlabel('Value of C for DT')\n",
    "plt.ylabel('Cross-Validated Accuracy')"
   ]
  },
  {
   "cell_type": "markdown",
   "metadata": {},
   "source": [
    "# Traning with best hyperparameters"
   ]
  },
  {
   "cell_type": "code",
   "execution_count": 165,
   "metadata": {
    "scrolled": false
   },
   "outputs": [
    {
     "name": "stdout",
     "output_type": "stream",
     "text": [
      "0.7492956722545332\n"
     ]
    }
   ],
   "source": [
    "clf = DecisionTreeRegressor(criterion='mse',max_depth=10,min_samples_split=2)\n",
    "\n",
    "clf.fit(X_train, y_train)\n",
    "\n",
    "\n",
    "y_cv_pred = clf.predict(X_cv)\n",
    "\n",
    "print(r2_score(y_cv,y_cv_pred))"
   ]
  },
  {
   "cell_type": "code",
   "execution_count": 166,
   "metadata": {},
   "outputs": [
    {
     "data": {
      "text/plain": [
       "array([ 6315.8       , 14693.03225806, 10638.41129032, ...,\n",
       "       14693.03225806,  8071.52666667, 10638.41129032])"
      ]
     },
     "execution_count": 166,
     "metadata": {},
     "output_type": "execute_result"
    }
   ],
   "source": [
    "y_test_pred = clf.predict(X_test)\n",
    "y_test_pred"
   ]
  },
  {
   "cell_type": "markdown",
   "metadata": {},
   "source": [
    "# Model 6 : Ensemble Techniques "
   ]
  },
  {
   "cell_type": "markdown",
   "metadata": {},
   "source": [
    "## A. Bagging"
   ]
  },
  {
   "cell_type": "code",
   "execution_count": 58,
   "metadata": {},
   "outputs": [
    {
     "name": "stdout",
     "output_type": "stream",
     "text": [
      "RandomForestRegressor(bootstrap=True, criterion='mse', max_depth=50,\n",
      "                      max_features='auto', max_leaf_nodes=None,\n",
      "                      min_impurity_decrease=0.0, min_impurity_split=None,\n",
      "                      min_samples_leaf=1, min_samples_split=2,\n",
      "                      min_weight_fraction_leaf=0.0, n_estimators=100,\n",
      "                      n_jobs=None, oob_score=False, random_state=None,\n",
      "                      verbose=0, warm_start=False)\n",
      "0.974040549789331\n"
     ]
    }
   ],
   "source": [
    "#https://scikit-learn.org/stable/modules/generated/sklearn.ensemble.RandomForestClassifier.html\n",
    "from sklearn.model_selection import GridSearchCV\n",
    "from sklearn.ensemble import RandomForestRegressor\n",
    "\n",
    "\n",
    "parameters = {'max_depth': [5, 10, 50, 100],'n_estimators':[10, 20 , 50, 100]}\n",
    "RF = RandomForestRegressor( criterion='mse')\n",
    "\n",
    "model = GridSearchCV(RF,parameters, cv=3)\n",
    "\n",
    "model.fit(X_train, y_train)    \n",
    "\n",
    "print(model.best_estimator_)\n",
    "print(model.score(X_train, y_train))\n"
   ]
  },
  {
   "cell_type": "code",
   "execution_count": 60,
   "metadata": {},
   "outputs": [
    {
     "name": "stdout",
     "output_type": "stream",
     "text": [
      "0.827150542028712\n"
     ]
    }
   ],
   "source": [
    "from sklearn.model_selection import GridSearchCV\n",
    "\n",
    "RF=RandomForestRegressor(max_depth=50,n_estimators=100,criterion='mse' )\n",
    "RF.fit(X_train, y_train)\n",
    "\n",
    "y_cv_pred = RF.predict(X_cv)\n",
    "\n",
    "print(r2_score(y_cv,y_cv_pred))"
   ]
  },
  {
   "cell_type": "code",
   "execution_count": 167,
   "metadata": {},
   "outputs": [
    {
     "data": {
      "text/plain": [
       "array([ 8004.32 ,  9719.095, 10461.88 , ...,  9813.39 , 11116.12 ,\n",
       "       10109.17 ])"
      ]
     },
     "execution_count": 167,
     "metadata": {},
     "output_type": "execute_result"
    }
   ],
   "source": [
    "y_test_pred = RF.predict(X_test)\n",
    "y_test_pred"
   ]
  },
  {
   "cell_type": "markdown",
   "metadata": {},
   "source": [
    "# Boosting"
   ]
  },
  {
   "cell_type": "code",
   "execution_count": 61,
   "metadata": {},
   "outputs": [
    {
     "name": "stdout",
     "output_type": "stream",
     "text": [
      "GradientBoostingRegressor(alpha=0.9, criterion='friedman_mse', init=None,\n",
      "                          learning_rate=0.1, loss='ls', max_depth=10,\n",
      "                          max_features=None, max_leaf_nodes=None,\n",
      "                          min_impurity_decrease=0.0, min_impurity_split=None,\n",
      "                          min_samples_leaf=1, min_samples_split=2,\n",
      "                          min_weight_fraction_leaf=0.0, n_estimators=100,\n",
      "                          n_iter_no_change=None, presort='auto',\n",
      "                          random_state=None, subsample=1.0, tol=0.0001,\n",
      "                          validation_fraction=0.1, verbose=0, warm_start=False)\n"
     ]
    }
   ],
   "source": [
    "#https://scikit-learn.org/stable/modules/generated/sklearn.ensemble.RandomForestClassifier.html\n",
    "from sklearn.model_selection import GridSearchCV\n",
    "from sklearn.ensemble import GradientBoostingRegressor\n",
    "\n",
    "\n",
    "parameters = {'max_depth': [5, 10, 50, 100],'n_estimators':[10, 20 , 50, 100]}\n",
    "\n",
    "clf = GradientBoostingRegressor()\n",
    "\n",
    "model = GridSearchCV(clf,parameters, cv=3)\n",
    "\n",
    "model.fit(X_train, y_train)    \n",
    "\n",
    "print(model.best_estimator_)\n",
    "\n"
   ]
  },
  {
   "cell_type": "code",
   "execution_count": 62,
   "metadata": {},
   "outputs": [
    {
     "name": "stdout",
     "output_type": "stream",
     "text": [
      "0.8309453821229661\n"
     ]
    }
   ],
   "source": [
    "from sklearn.model_selection import GridSearchCV\n",
    "\n",
    "clf=GradientBoostingRegressor(max_depth=10,n_estimators=100)\n",
    "clf.fit(X_train, y_train)\n",
    "\n",
    "y_cv_pred = clf.predict(X_cv)\n",
    "\n",
    "print(r2_score(y_cv,y_cv_pred))"
   ]
  },
  {
   "cell_type": "code",
   "execution_count": 168,
   "metadata": {},
   "outputs": [
    {
     "data": {
      "text/plain": [
       "array([ 6315.8       , 14693.03225806, 10638.41129032, ...,\n",
       "       14693.03225806,  8071.52666667, 10638.41129032])"
      ]
     },
     "execution_count": 168,
     "metadata": {},
     "output_type": "execute_result"
    }
   ],
   "source": [
    "y_test_pred = clf.predict(X_test)\n",
    "y_test_pred"
   ]
  },
  {
   "cell_type": "markdown",
   "metadata": {},
   "source": [
    "## Note: As we have very less data stascking is not advisable "
   ]
  },
  {
   "cell_type": "markdown",
   "metadata": {},
   "source": [
    "# Xgboost"
   ]
  },
  {
   "cell_type": "code",
   "execution_count": 63,
   "metadata": {},
   "outputs": [
    {
     "name": "stdout",
     "output_type": "stream",
     "text": [
      "[23:24:05] WARNING: C:/Jenkins/workspace/xgboost-win64_release_0.90/src/objective/regression_obj.cu:152: reg:linear is now deprecated in favor of reg:squarederror.\n",
      "0.7231189370106481\n"
     ]
    }
   ],
   "source": [
    "import xgboost as xgb\n",
    "xgb_model = xgb.XGBRegressor(random_state=42)\n",
    "\n",
    "xgb_model.fit(X_train, y_train)\n",
    "\n",
    "y_cv_pred = xgb_model.predict(X_cv)\n",
    "\n",
    "print(r2_score(y_cv,y_cv_pred))\n",
    "\n"
   ]
  },
  {
   "cell_type": "code",
   "execution_count": 169,
   "metadata": {},
   "outputs": [
    {
     "data": {
      "text/plain": [
       "array([ 9657.39  ,  9729.19  ,  8469.763 , ..., 10935.208 ,  7686.1475,\n",
       "        9693.615 ], dtype=float32)"
      ]
     },
     "execution_count": 169,
     "metadata": {},
     "output_type": "execute_result"
    }
   ],
   "source": [
    "y_test_pred = xgb_model.predict(X_test)\n",
    "y_test_pred"
   ]
  },
  {
   "cell_type": "markdown",
   "metadata": {},
   "source": [
    "# 6.Model Comparison"
   ]
  },
  {
   "cell_type": "code",
   "execution_count": 69,
   "metadata": {},
   "outputs": [
    {
     "name": "stdout",
     "output_type": "stream",
     "text": [
      "+-------------------+----------+\n",
      "|       Model       | r2_score |\n",
      "+-------------------+----------+\n",
      "|        KNN        |  0.6093  |\n",
      "| Linear Regression |  0.3594  |\n",
      "|        SVM        |  0.0999  |\n",
      "|   Decision Tree   |  0.7508  |\n",
      "|    RandomForest   |  0.8271  |\n",
      "|        GBDT       |  0.8309  |\n",
      "|      Xgboost      |  0.7231  |\n",
      "|      Stacking     |  0.7231  |\n",
      "+-------------------+----------+\n"
     ]
    }
   ],
   "source": [
    "#https://stackoverflow.com/questions/18601688/python-prettytable-example\n",
    "\n",
    "from prettytable import PrettyTable\n",
    "table = PrettyTable()\n",
    "\n",
    "#setting column names\n",
    "table.field_names = [ \"Model\", \"r2_score\"]\n",
    "\n",
    "#setting row values\n",
    "table.add_row([\"KNN\", '0.6093' ])\n",
    "table.add_row([\"Linear Regression\" ,'0.3594' ])\n",
    "table.add_row([\"SVM\", '0.0999' ])\n",
    "table.add_row([\"Decision Tree\",'0.7508' ])\n",
    "table.add_row([\"RandomForest\",'0.8271' ])\n",
    "table.add_row([\"GBDT\" ,'0.8309' ])\n",
    "table.add_row([\"Xgboost\",'0.7231' ])\n",
    "table.add_row([\"Stacking\",'0.7231' ])\n",
    "print(table)"
   ]
  },
  {
   "cell_type": "markdown",
   "metadata": {},
   "source": [
    "Summary:<br>\n",
    "1.GBDT is the best model amongst all with r2score  of 0.8390<br>"
   ]
  },
  {
   "cell_type": "markdown",
   "metadata": {},
   "source": [
    "# 7.Creating Submission File"
   ]
  },
  {
   "cell_type": "code",
   "execution_count": 71,
   "metadata": {},
   "outputs": [
    {
     "data": {
      "text/plain": [
       "['finalized_model.sav']"
      ]
     },
     "execution_count": 71,
     "metadata": {},
     "output_type": "execute_result"
    }
   ],
   "source": [
    "best_model=clf\n",
    "from sklearn.externals import joblib\n",
    "filename = 'finalized_model.sav'\n",
    "joblib.dump(best_model, filename)"
   ]
  }
 ],
 "metadata": {
  "kernelspec": {
   "display_name": "Python 3",
   "language": "python",
   "name": "python3"
  },
  "language_info": {
   "codemirror_mode": {
    "name": "ipython",
    "version": 3
   },
   "file_extension": ".py",
   "mimetype": "text/x-python",
   "name": "python",
   "nbconvert_exporter": "python",
   "pygments_lexer": "ipython3",
   "version": "3.6.9"
  }
 },
 "nbformat": 4,
 "nbformat_minor": 2
}
